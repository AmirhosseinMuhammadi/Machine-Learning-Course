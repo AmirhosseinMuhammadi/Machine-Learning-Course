{
 "cells": [
  {
   "cell_type": "markdown",
   "id": "159b3fb2-ad3a-48a0-a258-e16d890b4212",
   "metadata": {},
   "source": [
    "# Chapter 2: Python Essentials\n",
    "**Python** is an easy to learn, powerful programming language. It has efficient **high-level data structures** and a simple but effective approach to **object-oriented programming**. Python’s elegant syntax and **dynamic typing**, together with its **interpreted** nature, make it an ideal language for scripting and rapid application development in many areas on most platforms [1].\n",
    "\n",
    "## Table of Contents\n",
    "- Getting Started\n",
    "- Basic Syntax and Variables\n",
    "- Built-in Data Types\n",
    "- Python Operators\n",
    "- Type Conversion\n",
    "- Comments\n",
    "- Conditions\n",
    "- Loops\n",
    "- Built-in Data Structures\n",
    "- User-defined Functions\n",
    "- Python Modules\n",
    "- File Handling\n",
    "- Exceptions and Error Handling\n",
    "- Functional Programming\n",
    "- Fundamentals of OOP\n",
    "- Packaging\n",
    "- References"
   ]
  },
  {
   "cell_type": "markdown",
   "id": "17b59ac6-092a-455b-9746-88b4ee52e9a1",
   "metadata": {},
   "source": [
    "## 1. Getting Started\n",
    "For executing Python scripts, its interpreter must be installed. The latest version of Python is available on its official website: https://www.python.org/. After installation, ```python``` command will be recognized by the system.\n",
    "\n",
    "Start Python shell (REPL) in your terminal/console/cmd:\n",
    "\n",
    "```bash\n",
    "python\n",
    "```\n",
    "```text\n",
    "Python 3.13.7 (main, Aug 14 2025, 14:15:11) \n",
    "Type \"help\", \"copyright\", \"credits\" or \"license\" for more information.\n",
    ">>>\n",
    "```\n",
    "\n",
    "Check Python version (exits immediately):\n",
    "```bash\n",
    "python --version\n",
    "```\n",
    "```text\n",
    "Python 3.13.7\n",
    "```\n",
    "\n",
    "Run a specific script called `my_script.py`:\n",
    "```bash\n",
    "cd /path/to/your/script/directory/\n",
    "python my_script.py\n",
    "```\n",
    "Replace `/path/to/your/script/directory/` with the actual path to your script.\n",
    "\n",
    "The first program can be written in any text editor as follows. `print()` is a built-in function that outputs a message to the user."
   ]
  },
  {
   "cell_type": "code",
   "execution_count": 1,
   "id": "15d8506a-ceeb-4990-979e-19c802948a1f",
   "metadata": {},
   "outputs": [
    {
     "name": "stdout",
     "output_type": "stream",
     "text": [
      "Hey There!\n"
     ]
    }
   ],
   "source": [
    "print(\"Hey There!\")"
   ]
  },
  {
   "cell_type": "markdown",
   "id": "35572b9b-a47c-4a2b-a9d4-1a0d18071960",
   "metadata": {},
   "source": [
    "## 2. Basic Syntax and Variables\n",
    "Variables are containers for storing data values. Unlike some other programming languages, Python has no command for declaring a variable - they are created when you first assign a value to them. This means python is a **dynamically typed** language."
   ]
  },
  {
   "cell_type": "code",
   "execution_count": 25,
   "id": "e3831e80-e044-477d-be27-55820b117608",
   "metadata": {},
   "outputs": [],
   "source": [
    "# Simple variable assignment\n",
    "name = \"Farhad\"\n",
    "age = 25\n",
    "height = 5.8\n",
    "is_student = True\n",
    "\n",
    "# Multiple assignment\n",
    "x, y = 1, 2"
   ]
  },
  {
   "cell_type": "markdown",
   "id": "cbf47f52-45c0-45b5-9315-b51920490384",
   "metadata": {},
   "source": [
    "### Descriptive Names\n",
    "Variables make Python flexible and easy to work with, while proper naming and organization ensure the code remains **readable** and **maintainable**. Descriptive names improve code readability and lead to **self-documented** scripts."
   ]
  },
  {
   "cell_type": "code",
   "execution_count": 16,
   "id": "a76fb823-e5bf-455d-a477-a774277d15e1",
   "metadata": {},
   "outputs": [],
   "source": [
    "# Good\n",
    "student_count = 25\n",
    "user_email = \"test@example.com\"\n",
    "\n",
    "# Bad\n",
    "sc = 25\n",
    "ue = \"test@example.com\""
   ]
  },
  {
   "cell_type": "markdown",
   "id": "7ce4f71e-4846-4ac9-9e64-86de491c4f6a",
   "metadata": {},
   "source": [
    "### Naming conventions\n",
    "Naming conventions are used for **clean** and **maintainable** code. There are lots of different naming conventions that are used for different purposes.\n",
    "\n",
    "#### Python Standard Conventions\n",
    "- **snake_case** - Used for variables, functions, and methods\n",
    "- **PascalCase** - Used for class names\n",
    "- **UPPER_SNAKE_CASE** - Used for constants\n",
    "\n",
    "#### Other Programming Conventions\n",
    "- **camelCase** - Common in other languages but not recommended in Python\n",
    "- **kebab-case** - Used in URLs and file names but invalid for Python identifiers\n",
    "- **UPPERCASE** - Typically used for acronyms within larger names\n",
    "\n",
    "#### Special Python Conventions\n",
    "- **Single character** - Used for mathematical variables and short-lived variables\n",
    "- **Leading underscore** - Indicates private variables and methods\n",
    "- **Double leading underscore** - Triggers name mangling for class attributes\n",
    "- **Double leading and trailing underscore** - Reserved for magic methods\n",
    "\n",
    "#### Invalid Naming Patterns\n",
    "- **Starting with digits** - Not allowed in any identifier\n",
    "- **Using hyphens** - Syntax error in Python identifiers\n",
    "- **Reserved keywords** - Cannot use Python language keywords as identifiers\n",
    "- **Special characters** - Most special characters are not allowed except underscore\n",
    "\n",
    "#### Best Practices\n",
    "- Use descriptive and meaningful names\n",
    "- Maintain consistency throughout the codebase\n",
    "- Follow established Python conventions for readability\n",
    "- Choose names that clearly indicate purpose and usage"
   ]
  },
  {
   "cell_type": "code",
   "execution_count": 19,
   "id": "41f5840d-335c-44d4-a9bd-d9283a618788",
   "metadata": {},
   "outputs": [
    {
     "ename": "SyntaxError",
     "evalue": "invalid decimal literal (2877325786.py, line 22)",
     "output_type": "error",
     "traceback": [
      "  \u001b[36mCell\u001b[39m\u001b[36m \u001b[39m\u001b[32mIn[19]\u001b[39m\u001b[32m, line 22\u001b[39m\n\u001b[31m    \u001b[39m\u001b[31m2nd_name = \"Smith\"    # Cannot start with digits\u001b[39m\n    ^\n\u001b[31mSyntaxError\u001b[39m\u001b[31m:\u001b[39m invalid decimal literal\n"
     ]
    }
   ],
   "source": [
    "# Single word\n",
    "name = \"Ali\"\n",
    "score = 80\n",
    "\n",
    "# Snake case for variables and user-defined functions (Python standard)\n",
    "first_name = \"Abbas\"\n",
    "total_score = 95\n",
    "\n",
    "# Constants (convention - not enforced)\n",
    "MAX_CONNECTIONS = 100\n",
    "API_KEY = \"secret123\"\n",
    "\n",
    "# Pascal case for classes\n",
    "class MyClass:\n",
    "    pass\n",
    "\n",
    "# Other naming conventions such as camel case (not recommended in Python)\n",
    "firstName = \"Farhad\"\n",
    "userAccountId = 1234\n",
    "\n",
    "# Invalid Examples\n",
    "2nd_name = \"Smith\"    # Cannot start with digits\n",
    "user-name = \"Bob\"     # No hyphens (kebab case)\n",
    "class = \"Math\"        # No reserved keywords"
   ]
  },
  {
   "cell_type": "markdown",
   "id": "290bd40d-cc2b-4f29-8a63-17ad49f6d09b",
   "metadata": {},
   "source": [
    "### Built-in Functions\n",
    "A function is a reusable block of code that performs a specific task and can be called multiple times throughout a program. It can take many arguments as input and also can be user-defined or already built-in Python."
   ]
  },
  {
   "cell_type": "markdown",
   "id": "22ce1f0a-9988-42bb-b22f-c3ef20762f80",
   "metadata": {},
   "source": [
    "#### Basic Printing\n",
    "As discussed before, the `print()` function displays data to the console, allowing to show messages, variables, and results to the users."
   ]
  },
  {
   "cell_type": "code",
   "execution_count": 2,
   "id": "1179dff0-bcea-41da-a409-d90b1b1bb192",
   "metadata": {},
   "outputs": [
    {
     "name": "stdout",
     "output_type": "stream",
     "text": [
      "Hey There.\n",
      "42\n",
      "3.14\n"
     ]
    }
   ],
   "source": [
    "print(\"Hey There.\")                    # Hey There.\n",
    "print(42)                              # 42\n",
    "print(3.14)                            # 3.14"
   ]
  },
  {
   "cell_type": "markdown",
   "id": "267d94fe-3493-4108-a825-5e4c8bdd7d91",
   "metadata": {},
   "source": [
    "#### Multiple Items"
   ]
  },
  {
   "cell_type": "code",
   "execution_count": 5,
   "id": "35a8df6c-0163-474b-8ab5-973ce4c32a23",
   "metadata": {},
   "outputs": [
    {
     "name": "stdout",
     "output_type": "stream",
     "text": [
      "Alice is 25 years old.\n"
     ]
    }
   ],
   "source": [
    "name = \"Alice\"\n",
    "age = 25\n",
    "print(name, \"is\", age, \"years old.\")"
   ]
  },
  {
   "cell_type": "markdown",
   "id": "aa7b201a-5a48-452a-9d95-a3d18f3202a8",
   "metadata": {},
   "source": [
    "#### Formatting Output"
   ]
  },
  {
   "cell_type": "code",
   "execution_count": 11,
   "id": "44ef9b42-5f9f-4e66-8bf5-398b354a9664",
   "metadata": {},
   "outputs": [
    {
     "name": "stdout",
     "output_type": "stream",
     "text": [
      "Amir is 25 years old\n",
      "Amir is 25 years old\n",
      "Python-is-awesome!\n"
     ]
    }
   ],
   "source": [
    "# Using f-strings (Python 3.6+)\n",
    "print(f\"{name} is {age} years old\")    # Alice is 25 years old\n",
    "\n",
    "# Using format() method\n",
    "print(\"{} is {} years old\".format(name, age))\n",
    "\n",
    "# With separators and end characters\n",
    "print(\"Python\", \"is\", \"awesome\", sep=\"-\", end=\"!\\n\")  # Python-is-awesome!"
   ]
  },
  {
   "cell_type": "markdown",
   "id": "f043e2bd-b189-4851-85c4-c9d18e9acd58",
   "metadata": {},
   "source": [
    "#### Basic Input\n",
    "The `input()` function captures user input from the keyboard and always returns it as a string."
   ]
  },
  {
   "cell_type": "code",
   "execution_count": 32,
   "id": "55d6071d-5787-46e8-9f4d-7ab0439f959f",
   "metadata": {},
   "outputs": [
    {
     "name": "stdin",
     "output_type": "stream",
     "text": [
      "Enter your name:  Amir\n"
     ]
    },
    {
     "name": "stdout",
     "output_type": "stream",
     "text": [
      "Hello Amir\n"
     ]
    }
   ],
   "source": [
    "name = input(\"Enter your name: \")\n",
    "# User types their name\n",
    "print(f\"Hello {user_name}\")                # Hello, user's name"
   ]
  },
  {
   "cell_type": "markdown",
   "id": "d55c23ad-4e44-4b14-851f-da632660a757",
   "metadata": {},
   "source": [
    "#### Numerical Input (requires conversion)"
   ]
  },
  {
   "cell_type": "code",
   "execution_count": 17,
   "id": "6284ed71-1814-4594-a37f-0c42a01a4b65",
   "metadata": {},
   "outputs": [
    {
     "name": "stdin",
     "output_type": "stream",
     "text": [
      "Enter your age:  13\n"
     ]
    },
    {
     "name": "stdout",
     "output_type": "stream",
     "text": [
      "<class 'str'>\n",
      "<class 'int'>\n",
      "Next year you'll be: 14\n"
     ]
    }
   ],
   "source": [
    "age = input(\"Enter your age: \")        # User types: 13\n",
    "print(type(age))                       # <class 'str'> - input always returns string\n",
    "\n",
    "# Convert to integer\n",
    "int_age = int(age)\n",
    "print(type(int_age))                   # <class 'int'>\n",
    "print(f\"Next year you'll be: {age_int + 1}\")  # Next year you'll be: 14"
   ]
  },
  {
   "cell_type": "code",
   "execution_count": 24,
   "id": "e871ffc2-3339-4b86-a915-f4e036e4d39c",
   "metadata": {},
   "outputs": [
    {
     "name": "stdin",
     "output_type": "stream",
     "text": [
      "Enter mass in kg:  5\n",
      "Enter velocity in m/s:  1\n"
     ]
    },
    {
     "name": "stdout",
     "output_type": "stream",
     "text": [
      "Kinetic energy: 2.50 Joules\n"
     ]
    }
   ],
   "source": [
    "# Physics calculation with floats\n",
    "mass = float(input(\"Enter mass in kg: \"))\n",
    "velocity = float(input(\"Enter velocity in m/s: \"))\n",
    "kinetic_energy = 0.5 * mass * velocity ** 2\n",
    "print(f\"Kinetic energy: {kinetic_energy:.2f} Joules\")"
   ]
  },
  {
   "cell_type": "markdown",
   "id": "576beeb9-ed3f-46c5-aa00-82df061f0268",
   "metadata": {},
   "source": [
    "## 3. Built-in Data Types\n",
    "Python organizes data types into several categories as shown in the following table.\n",
    "\n",
    "| Category | Data Types | Description |\n",
    "|----------|------------|-------------|\n",
    "| **Text Type** | `str` | String - for text data |\n",
    "| **Numeric Types** | `int`, `float`, `complex` | Integer, floating-point, and complex numbers |\n",
    "| **Sequence Types** | `list`, `tuple`, `range` | Ordered collections of items |\n",
    "| **Mapping Type** | `dict` | Key-value pairs (dictionary) |\n",
    "| **Set Types** | `set`, `frozenset` | Unordered collections of unique items |\n",
    "| **Boolean Type** | `bool` | Boolean values: `True` or `False` |\n",
    "| **Binary Types** | `bytes`, `bytearray`, `memoryview` | For handling binary data and memory |\n",
    "| **None Type** | `NoneType` | Represents absence of value: `None` |"
   ]
  },
  {
   "cell_type": "markdown",
   "id": "8f484679-2e29-4b67-bb84-f19f288e8c7e",
   "metadata": {},
   "source": [
    "### Quick Examples"
   ]
  },
  {
   "cell_type": "code",
   "execution_count": 26,
   "id": "c6bf84d2-cea9-4e95-b22c-80e8f972f25f",
   "metadata": {},
   "outputs": [],
   "source": [
    "text = \"Hello\"                                               # str\n",
    "number = 42                                                  # int  \n",
    "decimal = 3.14                                               # float\n",
    "numbers = [1, 2, 3]                                          # list\n",
    "key_values = {\"name\": \"Asghar\", \"last_name\": \"Farhadi\"}      # dict\n",
    "unique_items = {1, 2, 3}                                     # set\n",
    "is_valid = True                                              # bool\n",
    "binary_data = b\"hello\"                                       # bytes\n",
    "empty_value = None                                           # NoneType"
   ]
  },
  {
   "cell_type": "markdown",
   "id": "b1ca4ab7-5550-410b-a9bf-9fb2939564ce",
   "metadata": {},
   "source": [
    "### Type Checking"
   ]
  },
  {
   "cell_type": "code",
   "execution_count": 24,
   "id": "fb1c3815-a21d-4f47-bd29-0d049b91f47f",
   "metadata": {},
   "outputs": [
    {
     "name": "stdout",
     "output_type": "stream",
     "text": [
      "<class 'str'>\n"
     ]
    }
   ],
   "source": [
    "string = \"This is a sample string.\"\n",
    "print(type(string))"
   ]
  },
  {
   "cell_type": "markdown",
   "id": "ecb50f66-c6e5-425a-824f-e86cd157fd47",
   "metadata": {},
   "source": [
    "## 4. Python Operators\n",
    "Operators are special symbols that perform operations on variables and values. Python provides a rich set of operators for different purposes listed as follows.\n",
    "- Arithmetic operators\n",
    "- Assignment operators\n",
    "- Comparison operators\n",
    "- Logical operators\n",
    "- Identity operators\n",
    "- Membership operators\n",
    "- Bitwise operators"
   ]
  },
  {
   "cell_type": "markdown",
   "id": "aafd43c4-e313-4e5c-8f55-6b0321fc26ae",
   "metadata": {},
   "source": [
    "### Arithmetic Operators\n",
    "Used for mathematical operations.\n",
    "- `+` Addition\n",
    "- `-` Subtraction  \n",
    "- `*` Multiplication\n",
    "- `/` Division\n",
    "- `//` Floor Division\n",
    "- `%` Modulus\n",
    "- `**` Exponentiation"
   ]
  },
  {
   "cell_type": "code",
   "execution_count": 27,
   "id": "51b51e61-753f-44b4-89e7-cc382a7abf72",
   "metadata": {},
   "outputs": [
    {
     "name": "stdout",
     "output_type": "stream",
     "text": [
      "13\n",
      "7\n",
      "30\n",
      "3.3333333333333335\n",
      "3\n",
      "1\n",
      "1000\n"
     ]
    }
   ],
   "source": [
    "# Examples\n",
    "x, y = 10, 3\n",
    "\n",
    "print(x + y)   # 13\n",
    "print(x - y)   # 7\n",
    "print(x * y)   # 30\n",
    "print(x / y)   # 3.333...\n",
    "print(x // y)  # 3\n",
    "print(x % y)   # 1\n",
    "print(x ** y)  # 1000"
   ]
  },
  {
   "cell_type": "code",
   "execution_count": 10,
   "id": "4f1f512c-cb29-49a8-9f68-2e7266d3db92",
   "metadata": {},
   "outputs": [
    {
     "name": "stdout",
     "output_type": "stream",
     "text": [
      "Hi Amir\n",
      "HaHa\n"
     ]
    }
   ],
   "source": [
    "# Addition operator for strings\n",
    "name = \"Amir\"\n",
    "message = \"Hi\" + \" \" + name\n",
    "print(message)\n",
    "\n",
    "# String * integers\n",
    "message = \"Ha\"\n",
    "print(message * 2)"
   ]
  },
  {
   "cell_type": "markdown",
   "id": "c2fedfec-71cc-443a-b72a-efb4a0016b78",
   "metadata": {},
   "source": [
    "### Assignment Operators\n",
    "Used to assign values to variables.\n",
    "- `=` Basic assignment\n",
    "- `+=` Add and assign\n",
    "- `-=` Subtract and assign\n",
    "- `*=` Multiply and assign\n",
    "- `/=` Divide and assign\n",
    "- `//=` Floor divide and assign\n",
    "- `%=` Modulus and assign\n",
    "- `**=` Exponentiate and assign"
   ]
  },
  {
   "cell_type": "code",
   "execution_count": 29,
   "id": "bb1e33d9-10a3-4497-9f8e-e545efb73036",
   "metadata": {},
   "outputs": [
    {
     "name": "stdout",
     "output_type": "stream",
     "text": [
      "3.0\n"
     ]
    }
   ],
   "source": [
    "# Examples\n",
    "x = 10\n",
    "x += 5    # x = 15\n",
    "x -= 3    # x = 12\n",
    "x *= 2    # x = 24\n",
    "x /= 4    # x = 6.0\n",
    "x //= 2   # x = 3.0\n",
    "\n",
    "print(x)"
   ]
  },
  {
   "cell_type": "markdown",
   "id": "07e7ab56-604c-4d2b-8886-4cced8bd843b",
   "metadata": {},
   "source": [
    "### Comparison Operators\n",
    "Used to compare two values. Return boolean values of `True` or `False`.\n",
    "- `==` Equal to\n",
    "- `!=` Not equal to\n",
    "- `>` Greater than\n",
    "- `<` Less than\n",
    "- `>=` Greater than or equal to\n",
    "- `<=` Less than or equal to"
   ]
  },
  {
   "cell_type": "code",
   "execution_count": 30,
   "id": "7519b9f8-3cfd-43b4-84a4-50cf271f843e",
   "metadata": {},
   "outputs": [
    {
     "name": "stdout",
     "output_type": "stream",
     "text": [
      "False\n",
      "True\n",
      "True\n",
      "False\n",
      "True\n",
      "False\n"
     ]
    }
   ],
   "source": [
    "# Examples\n",
    "a, b = 10, 5\n",
    "\n",
    "print(a == b)   # False\n",
    "print(a != b)   # True\n",
    "print(a > b)    # True\n",
    "print(a < b)    # False\n",
    "print(a >= 10)  # True\n",
    "print(a <= 5)   # False"
   ]
  },
  {
   "cell_type": "markdown",
   "id": "b8225e37-8c12-423a-acd3-c2661ddcbe44",
   "metadata": {},
   "source": [
    "### Logical Operators\n",
    "Used to combine conditional statements.\n",
    "- `and` Logical AND\n",
    "- `or` Logical OR  \n",
    "- `not` Logical NOT"
   ]
  },
  {
   "cell_type": "code",
   "execution_count": 31,
   "id": "700241ca-7b66-4632-adae-95630f83ac55",
   "metadata": {},
   "outputs": [
    {
     "name": "stdout",
     "output_type": "stream",
     "text": [
      "True\n",
      "True\n",
      "False\n",
      "True\n",
      "False\n",
      "True\n",
      "True\n"
     ]
    }
   ],
   "source": [
    "# Examples\n",
    "x = 5\n",
    "\n",
    "print(x > 3 and x < 10)   # True\n",
    "print(x > 3 or x < 4)     # True\n",
    "print(not(x > 3))         # False\n",
    "\n",
    "# Truth table behavior\n",
    "print(True and True)      # True\n",
    "print(True and False)     # False\n",
    "print(False or True)      # True\n",
    "print(not False)          # True"
   ]
  },
  {
   "cell_type": "markdown",
   "id": "fed85caf-4314-4773-90d5-d1b8c0facd3c",
   "metadata": {},
   "source": [
    "### Identity Operators\n",
    "Used to compare objects (memory location), not values.\n",
    "- `is` Same object\n",
    "- `is not` Not same object"
   ]
  },
  {
   "cell_type": "code",
   "execution_count": 32,
   "id": "4c506371-71a8-4d09-86ec-8a9217d417cf",
   "metadata": {},
   "outputs": [
    {
     "name": "stdout",
     "output_type": "stream",
     "text": [
      "False\n",
      "True\n",
      "True\n",
      "True\n",
      "True\n"
     ]
    }
   ],
   "source": [
    "# Examples\n",
    "a = [1, 2, 3]\n",
    "b = [1, 2, 3]\n",
    "c = a\n",
    "\n",
    "print(a is b)        # False (different objects)\n",
    "print(a is c)        # True (same object)\n",
    "print(a == b)        # True (same values)\n",
    "print(a is not b)    # True\n",
    "\n",
    "# Special case with small integers\n",
    "x = 256\n",
    "y = 256\n",
    "print(x is y)        # True (Python interns small integers)"
   ]
  },
  {
   "cell_type": "markdown",
   "id": "b1da7c24-418e-4371-bea1-316b5314fea3",
   "metadata": {},
   "source": [
    "### Membership Operators\n",
    "Used to test if a sequence is present in an object.\n",
    "- `in` Present in sequence\n",
    "- `not in` Not present in sequence"
   ]
  },
  {
   "cell_type": "code",
   "execution_count": 33,
   "id": "0636b147-2d8f-4e8b-a397-0f46ff1116e6",
   "metadata": {},
   "outputs": [
    {
     "name": "stdout",
     "output_type": "stream",
     "text": [
      "True\n",
      "False\n",
      "True\n",
      "True\n",
      "True\n",
      "True\n",
      "False\n"
     ]
    }
   ],
   "source": [
    "# Examples\n",
    "fruits = [\"apple\", \"banana\", \"cherry\"]\n",
    "\n",
    "print(\"apple\" in fruits)      # True\n",
    "print(\"orange\" in fruits)     # False\n",
    "print(\"mango\" not in fruits)  # True\n",
    "\n",
    "# Works with strings, lists, tuples, dictionaries (keys)\n",
    "text = \"Hello World\"\n",
    "print(\"Hello\" in text)        # True\n",
    "print(\"Python\" not in text)   # True\n",
    "\n",
    "# With dictionaries\n",
    "person = {\"name\": \"John\", \"age\": 30}\n",
    "print(\"name\" in person)       # True (checks keys)\n",
    "print(\"John\" in person)       # False (doesn't check values)"
   ]
  },
  {
   "cell_type": "markdown",
   "id": "d4eca821-41fa-44d2-ad76-36933c5bea9b",
   "metadata": {},
   "source": [
    "### Bitwise Operators\n",
    "Used to compare (binary) numbers.\n",
    "- `&` Bitwise AND\n",
    "- `|` Bitwise OR\n",
    "- `^` Bitwise XOR\n",
    "- `~` Bitwise NOT\n",
    "- `<<` Left shift\n",
    "- `>>` Right shift"
   ]
  },
  {
   "cell_type": "code",
   "execution_count": 34,
   "id": "7609554e-13ab-4089-ba4d-4bec3d922497",
   "metadata": {},
   "outputs": [
    {
     "name": "stdout",
     "output_type": "stream",
     "text": [
      "0\n",
      "14\n",
      "14\n",
      "-11\n",
      "40\n",
      "5\n"
     ]
    }
   ],
   "source": [
    "# Examples\n",
    "a = 10    # 1010 in binary\n",
    "b = 4     # 0100 in binary\n",
    "\n",
    "print(a & b)   # 0  (1000 & 0100 = 0000)\n",
    "print(a | b)   # 14 (1010 | 0100 = 1110)\n",
    "print(a ^ b)   # 14 (1010 ^ 0100 = 1110)\n",
    "print(~a)      # -11 (inverts bits)\n",
    "print(a << 2)  # 40 (1010 → 101000)\n",
    "print(a >> 1)  # 5  (1010 → 0101)"
   ]
  },
  {
   "cell_type": "markdown",
   "id": "fbdbe010-88a9-4238-bc65-d174e512d3b6",
   "metadata": {},
   "source": [
    "## 5. Type Conversion (Casting)\n",
    "Different types of variables can be converted to some other types. Python is an object-orientated language, and as such it uses classes to define data types, including its primitive types."
   ]
  },
  {
   "cell_type": "markdown",
   "id": "c4a9e207-97b0-4de7-8e7e-437bc21f459b",
   "metadata": {},
   "source": [
    "### String to Numbers\n",
    "`int()` converts strings or floats to integers, removing decimal points.\n",
    "\n",
    "`float()` converts strings or integers to floating-point numbers with decimals."
   ]
  },
  {
   "cell_type": "code",
   "execution_count": 18,
   "id": "4fa42205-c0c0-4665-8de5-2a12d21ec3ea",
   "metadata": {},
   "outputs": [
    {
     "name": "stdout",
     "output_type": "stream",
     "text": [
      "123 <class 'int'>\n",
      "3.14 <class 'float'>\n",
      "10\n"
     ]
    }
   ],
   "source": [
    "# String to integer\n",
    "number_str = \"123\"\n",
    "number_int = int(number_str)\n",
    "print(number_int, type(number_int))    # 123 <class 'int'>\n",
    "\n",
    "# String to float\n",
    "float_str = \"3.14\"\n",
    "number_float = float(float_str)\n",
    "print(number_float, type(number_float)) # 3.14 <class 'float'>\n",
    "\n",
    "# With different bases\n",
    "binary_str = \"1010\"\n",
    "decimal_num = int(binary_str, 2)       # Convert from binary\n",
    "print(decimal_num)                     # 10"
   ]
  },
  {
   "cell_type": "markdown",
   "id": "dec87e8e-882b-4695-9553-7818528ffba1",
   "metadata": {},
   "source": [
    "### Numbers to String\n",
    "`str()` converts any data type into a string representation."
   ]
  },
  {
   "cell_type": "code",
   "execution_count": 73,
   "id": "5695df31-bdd7-4d8f-9053-2b0eb5410316",
   "metadata": {},
   "outputs": [
    {
     "name": "stdout",
     "output_type": "stream",
     "text": [
      "25 <class 'str'>\n",
      "19.99 <class 'str'>\n"
     ]
    }
   ],
   "source": [
    "# Integer to string\n",
    "age = 25\n",
    "age_str = str(age)\n",
    "print(age_str, type(age_str))          # 25 <class 'str'>\n",
    "\n",
    "# Float to string\n",
    "price = 19.99\n",
    "price_str = str(price)\n",
    "print(price_str, type(price_str))      # 19.99 <class 'str'>"
   ]
  },
  {
   "cell_type": "markdown",
   "id": "0a853a87-ee0c-409a-b311-2424ec5ba718",
   "metadata": {},
   "source": [
    "### Boolean Conversion\n",
    "`bool()` converts values to True or False based on their truthiness."
   ]
  },
  {
   "cell_type": "code",
   "execution_count": 20,
   "id": "f6b11343-7732-48c2-9e5f-5f43817c1f8f",
   "metadata": {},
   "outputs": [
    {
     "name": "stdout",
     "output_type": "stream",
     "text": [
      "True\n",
      "False\n",
      "True\n",
      "False\n",
      "False\n"
     ]
    }
   ],
   "source": [
    "# Various to boolean\n",
    "print(bool(1))         # True\n",
    "print(bool(0))         # False\n",
    "print(bool(\"Hello\"))   # True\n",
    "print(bool(\"\"))        # False\n",
    "print(bool([]))        # False"
   ]
  },
  {
   "cell_type": "markdown",
   "id": "11ab0fa5-dd06-42e3-8b4f-ee854c3d1e43",
   "metadata": {},
   "source": [
    "### Collection Conversion\n",
    "`list()` converts other iterables like tuples or strings into lists.\n",
    "\n",
    "`tuple()` converts other iterables like lists or strings into tuples.\n",
    "\n",
    "`set()` converts iterables into sets, removing duplicates.\n",
    "\n",
    "`dict()` creates dictionaries from key-value pairs or other mappings."
   ]
  },
  {
   "cell_type": "markdown",
   "id": "ce972571-9ed7-42c5-971b-9fbd981bb7f1",
   "metadata": {},
   "source": [
    "## 6. Comments\n",
    "Comments are **non-executable text** used to explain code, make notes, or temporarily disable code. Python supports single-line comments using the hash symbol (#) and multi-line explanations using triple-quoted strings (though technically docstrings). Comments are ignored by the Python interpreter and serve solely for human readability, documentation, and code maintenance. Good comments explain the why behind code logic rather than stating the obvious, making code more maintainable and understandable for other developers and your future self."
   ]
  },
  {
   "cell_type": "code",
   "execution_count": 26,
   "id": "a91fa570-55bd-461e-84fe-134f6e306b11",
   "metadata": {},
   "outputs": [],
   "source": [
    "# This is a single-line comment\n",
    "name = \"Muhammad\"  # This is an inline comment\n",
    "\n",
    "# Calculating the total price\n",
    "# including tax\n",
    "price = 100\n",
    "tax = price * 0.08  # 8% tax rate\n",
    "total = price + tax\n",
    "\n",
    "\"\"\"\n",
    "This is a multi-line comment\n",
    "using triple quotes.\n",
    "It can span multiple lines.\n",
    "\"\"\"\n",
    "\n",
    "# TODO: Add discount calculation later\n",
    "# NOTE: Prices are in US dollars\n",
    "\n",
    "# Temporarily disabled code:\n",
    "# print(\"This won't run\")\n",
    "# old_price = 50\n",
    "\n",
    "# Bad comment example:\n",
    "# x = 10  # Setting x to 10 (obvious - don't do this)\n",
    "\n",
    "# Good comment example:\n",
    "x = 10  # Initial value for counter"
   ]
  },
  {
   "cell_type": "markdown",
   "id": "fffebcd3-4006-405d-978c-59f3ed6c9f92",
   "metadata": {},
   "source": [
    "## 7. Conditions\n",
    "Conditions allow the program to make decisions and execute different code blocks based on whether certain conditions are **True** or **False**. Python uses `if`, `elif` (else if), `else` and `match-case` **statements** or **keywords** to control the flow of your program. Conditions are evaluated using comparison operators (like ==, >, <) and logical operators (like and, or, not). When a condition is True, the code block underneath it runs; when False, Python skips to the next condition or the else block."
   ]
  },
  {
   "cell_type": "markdown",
   "id": "e25bca24-e869-40f5-9e86-483771313d0e",
   "metadata": {},
   "source": [
    "### Age Check"
   ]
  },
  {
   "cell_type": "code",
   "execution_count": 27,
   "id": "c8606132-e97a-4a5b-b3ff-18b1ce29e9e1",
   "metadata": {},
   "outputs": [
    {
     "name": "stdout",
     "output_type": "stream",
     "text": [
      "You can vote!\n"
     ]
    }
   ],
   "source": [
    "age = 20\n",
    "\n",
    "if age >= 18:\n",
    "    print(\"You can vote!\")\n",
    "else:\n",
    "    print(\"You are too young to vote.\")"
   ]
  },
  {
   "cell_type": "markdown",
   "id": "e8161809-2f90-40fe-9bc4-32f1c8daef16",
   "metadata": {},
   "source": [
    "### Grade Calculator"
   ]
  },
  {
   "cell_type": "code",
   "execution_count": 28,
   "id": "4013e810-d888-46cb-9ca2-e6d450468b76",
   "metadata": {},
   "outputs": [
    {
     "name": "stdout",
     "output_type": "stream",
     "text": [
      "Good job! Grade: B\n"
     ]
    }
   ],
   "source": [
    "score = 85\n",
    "\n",
    "if score >= 90:\n",
    "    print(\"Excellent! Grade: A\")\n",
    "elif score >= 80:\n",
    "    print(\"Good job! Grade: B\")\n",
    "elif score >= 70:\n",
    "    print(\"Not bad! Grade: C\")\n",
    "elif score >= 60:\n",
    "    print(\"You passed! Grade: D\")\n",
    "else:\n",
    "    print(\"Sorry, you failed. Grade: F\")"
   ]
  },
  {
   "cell_type": "markdown",
   "id": "c04cbed5-72da-48c1-996b-756aa6f7fe69",
   "metadata": {},
   "source": [
    "### Weather Decision Maker"
   ]
  },
  {
   "cell_type": "code",
   "execution_count": 29,
   "id": "9afa0088-9a4c-4aeb-b94b-6a992e73ce0b",
   "metadata": {},
   "outputs": [
    {
     "name": "stdout",
     "output_type": "stream",
     "text": [
      "Take a light rain jacket\n"
     ]
    }
   ],
   "source": [
    "is_raining = True\n",
    "temperature = 22\n",
    "\n",
    "if is_raining and temperature > 20:\n",
    "    print(\"Take a light rain jacket\")\n",
    "elif is_raining and temperature <= 20:\n",
    "    print(\"Take a warm rain coat\")\n",
    "elif not is_raining and temperature > 25:\n",
    "    print(\"Wear shorts and t-shirt\")\n",
    "else:\n",
    "    print(\"Wear normal clothes\")"
   ]
  },
  {
   "cell_type": "markdown",
   "id": "deb11e9a-c545-404e-839d-e4877b30d093",
   "metadata": {},
   "source": [
    "### Number Properties"
   ]
  },
  {
   "cell_type": "code",
   "execution_count": 30,
   "id": "bab33a30-8492-444e-acf1-bf7733fa2ebe",
   "metadata": {},
   "outputs": [
    {
     "name": "stdout",
     "output_type": "stream",
     "text": [
      "This is a positive number\n",
      "It's also an odd number\n"
     ]
    }
   ],
   "source": [
    "number = 7\n",
    "\n",
    "if number > 0:\n",
    "    print(\"This is a positive number\")\n",
    "    if number % 2 == 0:\n",
    "        print(\"It's also an even number\")\n",
    "    else:\n",
    "        print(\"It's also an odd number\")\n",
    "elif number < 0:\n",
    "    print(\"This is a negative number\")\n",
    "else:\n",
    "    print(\"The number is zero\")"
   ]
  },
  {
   "cell_type": "markdown",
   "id": "2754f31c-16d4-487d-80c6-d5c3d5069e61",
   "metadata": {},
   "source": [
    "### Simple Authentication System"
   ]
  },
  {
   "cell_type": "code",
   "execution_count": 33,
   "id": "01301a3d-7818-4567-840e-a179a6d100b1",
   "metadata": {},
   "outputs": [
    {
     "name": "stdout",
     "output_type": "stream",
     "text": [
      "Login successful!\n"
     ]
    }
   ],
   "source": [
    "username = \"admin\"\n",
    "password = \"1234\"\n",
    "\n",
    "if username == \"admin\" and password == \"1234\":\n",
    "    print(\"Login successful!\")\n",
    "else:\n",
    "    print(\"Wrong username or password\")"
   ]
  },
  {
   "cell_type": "markdown",
   "id": "8b286347-312e-49f3-af94-2491fd7278f8",
   "metadata": {},
   "source": [
    "### Discount Calculator"
   ]
  },
  {
   "cell_type": "code",
   "execution_count": 36,
   "id": "3d210083-d247-44f9-bc4b-d06b1e3590a3",
   "metadata": {},
   "outputs": [
    {
     "name": "stdout",
     "output_type": "stream",
     "text": [
      "You get 20% discount! Save $24.0\n"
     ]
    }
   ],
   "source": [
    "total_price = 120\n",
    "is_member = True\n",
    "\n",
    "if total_price > 100 and is_member:\n",
    "    discount = total_price * 0.20\n",
    "    print(f\"You get 20% discount! Save ${discount}\")\n",
    "elif total_price > 100:\n",
    "    discount = total_price * 0.10\n",
    "    print(f\"You get 10% discount! Save ${discount}\")\n",
    "else:\n",
    "    print(\"No discount available\")"
   ]
  },
  {
   "cell_type": "markdown",
   "id": "f002dd48-cdf6-4720-854c-81bb764d0dd1",
   "metadata": {},
   "source": [
    "### HTTP Status Code Handler\n",
    "**Match case** (introduced in Python 3.10) is a powerful pattern matching feature that provides a more readable and expressive way to handle multiple conditions compared to long if-elif-else chains. It allows you to compare a value against multiple patterns and execute code based on which pattern matches. Match case is especially useful for checking complex data structures, enums, or when you have many possible cases to handle."
   ]
  },
  {
   "cell_type": "code",
   "execution_count": 37,
   "id": "5a84fd1c-d827-45e2-a7e4-4b65fa6fc2f4",
   "metadata": {},
   "outputs": [
    {
     "name": "stdout",
     "output_type": "stream",
     "text": [
      "📄 Not Found - Page doesn't exist\n"
     ]
    }
   ],
   "source": [
    "# Handle different HTTP status codes\n",
    "status_code = 404\n",
    "\n",
    "match status_code:\n",
    "    case 200:\n",
    "        print(\"✅ Success - Request completed\")\n",
    "    case 301 | 302:\n",
    "        print(\"🔄 Redirect - Page moved\")\n",
    "    case 400:\n",
    "        print(\"❌ Bad Request - Check your input\")\n",
    "    case 401:\n",
    "        print(\"🔒 Unauthorized - Login required\")\n",
    "    case 403:\n",
    "        print(\"🚫 Forbidden - Access denied\")\n",
    "    case 404:\n",
    "        print(\"📄 Not Found - Page doesn't exist\")\n",
    "    case 500:\n",
    "        print(\"⚡ Server Error - Try again later\")\n",
    "    case _:\n",
    "        print(f\"❓ Unknown status code: {status_code}\")\n",
    "\n",
    "# Output: \"📄 Not Found - Page doesn't exist\""
   ]
  },
  {
   "cell_type": "markdown",
   "id": "defad121-d2b5-4d42-9d19-ab460192eefe",
   "metadata": {},
   "source": [
    "## 8. Loops\n",
    "Loops are used to **repeatedly** execute a block of code multiple times. Python provides two main types of loops: `for` loops for iterating over **sequences** and **iterables** (like lists, strings, or ranges) and `while` loops for repeating code as long as a **condition** is true. Loops help automate repetitive tasks, process collections of data, and reduce code duplication."
   ]
  },
  {
   "cell_type": "markdown",
   "id": "ef2b5bcf-4703-4ce1-9d6a-5411ec986f74",
   "metadata": {},
   "source": [
    "### Basic For Loop\n",
    "The `range()` function returns a sequence of numbers, starting from 0 by default, and increments by 1 (by default), and ends at a specified number."
   ]
  },
  {
   "cell_type": "code",
   "execution_count": 1,
   "id": "3124f490-3678-4e48-a242-30c91bb02684",
   "metadata": {},
   "outputs": [
    {
     "name": "stdout",
     "output_type": "stream",
     "text": [
      "Count: 1\n",
      "Count: 2\n",
      "Count: 3\n",
      "Count: 4\n",
      "Count: 5\n"
     ]
    }
   ],
   "source": [
    "# Count from 1 to 5\n",
    "for number in range(1, 6):\n",
    "    print(f\"Count: {number}\")\n",
    "\n",
    "# Output:\n",
    "# Count: 1\n",
    "# Count: 2\n",
    "# Count: 3\n",
    "# Count: 4\n",
    "# Count: 5"
   ]
  },
  {
   "cell_type": "markdown",
   "id": "9b05f763-7798-478e-8d3c-ad215d76033f",
   "metadata": {},
   "source": [
    "The `range()` function can also take an optional third argument that specifies the **step** of the numeric sequence."
   ]
  },
  {
   "cell_type": "code",
   "execution_count": 18,
   "id": "491390ac-9453-4fe0-9e02-4f4fa4f28fd1",
   "metadata": {},
   "outputs": [
    {
     "name": "stdout",
     "output_type": "stream",
     "text": [
      "1 is an odd number.\n",
      "3 is an odd number.\n",
      "5 is an odd number.\n",
      "7 is an odd number.\n",
      "9 is an odd number.\n"
     ]
    }
   ],
   "source": [
    "# Show odd numbers from 1 to 10\n",
    "for number in range(1, 10, 2):\n",
    "    print(f\"{number} is an odd number.\")\n",
    "    \n",
    "# Output:\n",
    "# 1 is an odd number.\n",
    "# 3 is an odd number.\n",
    "# 5 is an odd number.\n",
    "# 7 is an odd number.\n",
    "# 9 is an odd number."
   ]
  },
  {
   "cell_type": "markdown",
   "id": "d3997dd0-0f60-4519-aad6-be5c60bbc1b8",
   "metadata": {},
   "source": [
    "### Nested Loops\n",
    "Loops can be written inside each other. This means the inner loop will be executed one time for each iteration of the outer loop."
   ]
  },
  {
   "cell_type": "code",
   "execution_count": 6,
   "id": "ef5f9e1a-59fb-45c7-86e2-9f1523f31c96",
   "metadata": {},
   "outputs": [
    {
     "name": "stdout",
     "output_type": "stream",
     "text": [
      "1 x 1 = 1\n",
      "1 x 2 = 2\n",
      "1 x 3 = 3\n",
      "---\n",
      "2 x 1 = 2\n",
      "2 x 2 = 4\n",
      "2 x 3 = 6\n",
      "---\n",
      "3 x 1 = 3\n",
      "3 x 2 = 6\n",
      "3 x 3 = 9\n",
      "---\n"
     ]
    }
   ],
   "source": [
    "# Multiplication table\n",
    "for i in range(1, 4):\n",
    "    for j in range(1, 4):\n",
    "        print(f\"{i} x {j} = {i * j}\")\n",
    "    print(\"---\")  # Separator\n",
    "\n",
    "# Output:\n",
    "# 1 x 1 = 1\n",
    "# 1 x 2 = 2\n",
    "# 1 x 3 = 3\n",
    "# ---\n",
    "# 2 x 1 = 2\n",
    "# 2 x 2 = 4\n",
    "# 2 x 3 = 6\n",
    "# ---\n",
    "# 3 x 1 = 3\n",
    "# 3 x 2 = 6\n",
    "# 3 x 3 = 9\n",
    "# ---"
   ]
  },
  {
   "cell_type": "markdown",
   "id": "437d02b6-bae7-49ed-baad-22532f60cd29",
   "metadata": {},
   "source": [
    "### Looping Through Strings\n",
    "For loops can iterate over strings and lists."
   ]
  },
  {
   "cell_type": "code",
   "execution_count": 21,
   "id": "b0d2fd6d-c885-4bee-9f4e-85fdc0a75d07",
   "metadata": {},
   "outputs": [
    {
     "name": "stdout",
     "output_type": "stream",
     "text": [
      "P\n",
      "Y\n",
      "T\n",
      "H\n",
      "O\n",
      "N\n"
     ]
    }
   ],
   "source": [
    "# Process each character in a string\n",
    "word = \"Python\"\n",
    "\n",
    "for letter in word:\n",
    "    print(letter.upper())\n",
    "\n",
    "# Output:\n",
    "# P\n",
    "# Y\n",
    "# T\n",
    "# H\n",
    "# O\n",
    "# N"
   ]
  },
  {
   "cell_type": "markdown",
   "id": "00f75433-5926-4c06-942f-abe1830724fc",
   "metadata": {},
   "source": [
    "### Looping Through Lists"
   ]
  },
  {
   "cell_type": "code",
   "execution_count": 8,
   "id": "67f45f08-6230-4a4a-b1fb-746ac0da6dcd",
   "metadata": {},
   "outputs": [
    {
     "name": "stdout",
     "output_type": "stream",
     "text": [
      "I like apple\n",
      "I like banana\n",
      "I like cherry\n"
     ]
    }
   ],
   "source": [
    "# Loop through a list of fruits\n",
    "fruits = [\"apple\", \"banana\", \"cherry\"]\n",
    "\n",
    "for fruit in fruits:\n",
    "    print(f\"I like {fruit}\")\n",
    "\n",
    "# Output:\n",
    "# I like apple\n",
    "# I like banana\n",
    "# I like cherry"
   ]
  },
  {
   "cell_type": "markdown",
   "id": "e7407150-ef62-404c-b254-1493fc25397e",
   "metadata": {},
   "source": [
    "### Basic While Loop\n",
    "The `while` loop can execute a set of statements as long as a condition is true. Thus, it can be considered as a conditional loop."
   ]
  },
  {
   "cell_type": "code",
   "execution_count": 2,
   "id": "2d11314f-6962-4db0-b9b6-b644c35817ba",
   "metadata": {},
   "outputs": [
    {
     "name": "stdout",
     "output_type": "stream",
     "text": [
      "Countdown: 5\n",
      "Countdown: 4\n",
      "Countdown: 3\n",
      "Countdown: 2\n",
      "Countdown: 1\n",
      "Blast off! 🚀\n"
     ]
    }
   ],
   "source": [
    "# Countdown using while loop\n",
    "count = 5\n",
    "\n",
    "while count > 0:\n",
    "    print(f\"Countdown: {count}\")\n",
    "    count -= 1  # Decrease count by 1\n",
    "\n",
    "print(\"Blast off! 🚀\")\n",
    "\n",
    "# Output:\n",
    "# Countdown: 5\n",
    "# Countdown: 4\n",
    "# Countdown: 3\n",
    "# Countdown: 2\n",
    "# Countdown: 1\n",
    "# Blast off! 🚀"
   ]
  },
  {
   "cell_type": "markdown",
   "id": "56898244-955b-4fc8-bfd1-2e2e85e273ff",
   "metadata": {},
   "source": [
    "### Loop Control with Break and Continue\n",
    "`break` and `continue` are two keywords that can be used to either **stop (terminate)** the loop or **skip** a specific iteration. They are valid for both `for` and `while` loops."
   ]
  },
  {
   "cell_type": "code",
   "execution_count": 3,
   "id": "850ca54c-a8ea-4904-a12a-8bbd1bcbcdd1",
   "metadata": {},
   "outputs": [
    {
     "name": "stdout",
     "output_type": "stream",
     "text": [
      "1\n",
      "2\n",
      "4\n",
      "5\n",
      "6\n",
      "7\n"
     ]
    }
   ],
   "source": [
    "# Break and continue examples\n",
    "for number in range(1, 11):\n",
    "    if number == 3:\n",
    "        continue  # Skip number 3\n",
    "    if number == 8:\n",
    "        break     # Stop at number 8\n",
    "    print(number)\n",
    "\n",
    "# Output:\n",
    "# 1\n",
    "# 2\n",
    "# 4\n",
    "# 5\n",
    "# 6\n",
    "# 7"
   ]
  },
  {
   "cell_type": "markdown",
   "id": "9ee6a007-aee9-4e09-9e7e-ebaa7f357cb2",
   "metadata": {},
   "source": [
    "### Else in Loop\n",
    "The `else` keyword is used not only with conditions but also with loops to execute a block of code **only if the loop completes all iterations without encountering a break statement**."
   ]
  },
  {
   "cell_type": "code",
   "execution_count": 24,
   "id": "ee4117ab-3c48-4b77-b55a-8c9393f770cd",
   "metadata": {},
   "outputs": [
    {
     "name": "stdout",
     "output_type": "stream",
     "text": [
      "0\n",
      "1\n",
      "2\n",
      "Loop completed!\n"
     ]
    }
   ],
   "source": [
    "# else runs\n",
    "for i in range(3):\n",
    "    print(i)\n",
    "else:\n",
    "    print(\"Loop completed!\")  # This WILL execute\n",
    "\n",
    "# Output:\n",
    "# 0\n",
    "# 1\n",
    "# 2\n",
    "# Loop completed!"
   ]
  },
  {
   "cell_type": "code",
   "execution_count": 23,
   "id": "3336c536-a55b-4b2c-ab10-9eafb89294bb",
   "metadata": {},
   "outputs": [
    {
     "name": "stdout",
     "output_type": "stream",
     "text": [
      "0\n"
     ]
    }
   ],
   "source": [
    "# else does not run\n",
    "for i in range(3):\n",
    "    if i == 1:\n",
    "        break\n",
    "    print(i)\n",
    "else:\n",
    "    print(\"Loop completed!\")  # This will NOT execute\n",
    "\n",
    "# Output:\n",
    "# 0"
   ]
  },
  {
   "cell_type": "markdown",
   "id": "17740cf1-e96b-4890-abbf-b3071a6eec2f",
   "metadata": {},
   "source": [
    "### Multiple Iterations\n",
    "The `zip()` function is used to combine **multiple iterables** (like lists, tuples, etc.) and iterate over them simultaneously in a loop. It creates an iterator that aggregates elements from each iterable, allowing to process corresponding items from multiple sequences together in parallel. This is especially useful when there is a need to work with related data stored in separate collections."
   ]
  },
  {
   "cell_type": "code",
   "execution_count": 28,
   "id": "b99d93c8-c1a8-4dbb-8f1d-56b0064fba49",
   "metadata": {},
   "outputs": [
    {
     "name": "stdout",
     "output_type": "stream",
     "text": [
      "Farhad is 25 years old\n",
      "Amir is 30 years old\n",
      "Abbas is 35 years old\n"
     ]
    }
   ],
   "source": [
    "names = [\"Farhad\", \"Amir\", \"Abbas\"]\n",
    "ages = [25, 30, 35]\n",
    "\n",
    "# Loop through both lists simultaneously\n",
    "for name, age in zip(names, ages):\n",
    "    print(f\"{name} is {age} years old\")\n",
    "\n",
    "# Output:\n",
    "# Alice is 25 years old\n",
    "# Bob is 30 years oldb\n",
    "# Charlie is 35 years old"
   ]
  },
  {
   "cell_type": "markdown",
   "id": "cc36c559-1372-4ba2-954c-fccf77b059a1",
   "metadata": {},
   "source": [
    "## 9. Built-in Data Structures\n",
    "Python provides several built-in data structures for storing and organizing data efficiently. Each data structure has unique characteristics, use cases, and performance considerations. The main built-in data structures are **lists**, **tuples**, **sets**, **dictionaries** and **strings**, each designed for specific types of operations and data organization patterns."
   ]
  },
  {
   "cell_type": "markdown",
   "id": "da8cf05c-8889-4e9a-81d0-21e28043483d",
   "metadata": {},
   "source": [
    "### Lists\n",
    "Lists are **ordered** and **mutable** sequences that allow duplicate elements."
   ]
  },
  {
   "cell_type": "code",
   "execution_count": 43,
   "id": "758fb39b-0084-436b-8195-d48bf64438ea",
   "metadata": {},
   "outputs": [],
   "source": [
    "# Creating lists\n",
    "fruits = [\"apple\", \"banana\", \"cherry\"]\n",
    "numbers = [1, 2, 3, 4, 5]\n",
    "mixed_list = [1, \"hello\", 3.14, True]\n",
    "empty_list = list() # or empty_list = []\n",
    "\n",
    "# Common operations\n",
    "fruits.append(\"orange\")        # Add element\n",
    "fruits.insert(1, \"grape\")      # Insert at position\n",
    "fruits.remove(\"banana\")        # Remove element\n",
    "last = fruits.pop()            # Remove and return last element\n",
    "fruits.sort()                  # Sort the list\n",
    "length = len(fruits)           # Get length"
   ]
  },
  {
   "cell_type": "markdown",
   "id": "cb48e1ac-17f1-4891-83b6-9e1883e50e30",
   "metadata": {},
   "source": [
    "### Tuples\n",
    "Tuples are **ordered** and **immutable** sequences that allow duplicate elements."
   ]
  },
  {
   "cell_type": "code",
   "execution_count": 49,
   "id": "8af188ca-8fdf-4472-abb9-4c603dc47656",
   "metadata": {},
   "outputs": [],
   "source": [
    "# Creating tuples\n",
    "coordinates = (10, 20)\n",
    "colors = (\"red\", \"green\", \"blue\")\n",
    "single_element = (42,)         # Note the comma: without the comma it would be an integer\n",
    "empty_tuple = tuple() # or empty_tuple = ()\n",
    "\n",
    "# Common operations\n",
    "x, y = coordinates             # Tuple unpacking\n",
    "first_color = colors[0]        # Access by index\n",
    "color_count = colors.count(\"red\")  # Count occurrences\n",
    "color_index = colors.index(\"green\")  # Find index\n",
    "length = len(colors)           # Get length"
   ]
  },
  {
   "cell_type": "markdown",
   "id": "69f7b34b-abdf-4426-a737-3d35a500e02d",
   "metadata": {},
   "source": [
    "### Sets\n",
    "Sets are **unordered **collections of unique elements with **no duplicates**."
   ]
  },
  {
   "cell_type": "code",
   "execution_count": 46,
   "id": "cc8070a2-e33a-4747-93fc-01a96eb8c976",
   "metadata": {},
   "outputs": [],
   "source": [
    "# Creating sets\n",
    "unique_numbers = {1, 2, 3, 4, 5}\n",
    "vowels = set([\"a\", \"e\", \"i\", \"o\", \"u\"])\n",
    "empty_set = set() # Note that {} does NOT define empty set\n",
    "\n",
    "# Common operations\n",
    "unique_numbers.add(6)          # Add element\n",
    "unique_numbers.remove(3)       # Remove element\n",
    "set1 = {1, 2, 3}\n",
    "set2 = {3, 4, 5}\n",
    "union = set1 | set2            # Union: {1, 2, 3, 4, 5}\n",
    "intersection = set1 & set2     # Intersection: {3}\n",
    "difference = set1 - set2       # Difference: {1, 2}"
   ]
  },
  {
   "cell_type": "markdown",
   "id": "82e70eea-96e2-4c64-9cc9-28634ee4b990",
   "metadata": {},
   "source": [
    "### Dictionaries\n",
    "Dictionaries are **unordered** collections of **key-value pairs** with unique keys."
   ]
  },
  {
   "cell_type": "code",
   "execution_count": 50,
   "id": "dabc2c7e-005b-4521-ae23-a4c494da48de",
   "metadata": {},
   "outputs": [],
   "source": [
    "# Creating dictionaries\n",
    "student = {\"name\": \"Alice\", \"age\": 20, \"grade\": \"A\"}\n",
    "scores = dict(math=95, science=87, history=92)\n",
    "empty_dict = dict() # or empty_dict = {}\n",
    "\n",
    "# Common operations\n",
    "student[\"age\"] = 21            # Update value\n",
    "student[\"city\"] = \"Boston\"     # Add new key-value pair\n",
    "name = student[\"name\"]         # Access value\n",
    "age = student.get(\"age\")       # Safe access\n",
    "keys = student.keys()          # Get all keys\n",
    "values = student.values()      # Get all values\n",
    "items = student.items()        # Get key-value pairs\n",
    "del student[\"grade\"]           # Remove key-value pair"
   ]
  },
  {
   "cell_type": "markdown",
   "id": "d4a994ca-a0d3-4aea-a518-81c0d54d670e",
   "metadata": {},
   "source": [
    "### Strings\n",
    "Strings are **immutable** sequences of Unicode characters."
   ]
  },
  {
   "cell_type": "code",
   "execution_count": 51,
   "id": "493da757-d2eb-493c-8fc2-b807a6fcc5a6",
   "metadata": {},
   "outputs": [],
   "source": [
    "# String operations\n",
    "text = \"Hello, World!\"\n",
    "name = \"Alice\"\n",
    "empty_string = str() # or empty_string = \"\"\n",
    "\n",
    "# Common operations\n",
    "length = len(text)             # Get length\n",
    "upper_text = text.upper()      # Convert to uppercase\n",
    "lower_text = text.lower()      # Convert to lowercase\n",
    "words = text.split(\",\")        # Split into list: words = [\"Hello\" , \"World!\"]\n",
    "new_text = text.replace(\"World\", \"Python\")  # Replace substring\n",
    "contains = \"Hello\" in text     # Check substring\n",
    "substring = text[0:5]          # Slicing: \"Hello\""
   ]
  },
  {
   "cell_type": "markdown",
   "id": "eb9a3744-dc37-419c-8c34-4006ed2bb27f",
   "metadata": {},
   "source": [
    "### Python Data Structures Comparison\n",
    "\n",
    "| Feature | List | Tuple | Set | Dictionary | String |\n",
    "|---------|------|-------|-----|------------|--------|\n",
    "| **Mutability** | ✅ Mutable | ❌ Immutable | ✅ Mutable | ✅ Mutable | ❌ Immutable |\n",
    "| **Order** | ✅ Ordered | ✅ Ordered | ❌ Unordered | ✅ Ordered (Python 3.7+) | ✅ Ordered |\n",
    "| **Duplicates** | ✅ Allowed | ✅ Allowed | ❌ Not Allowed | Keys: ❌<br>Values: ✅ | ✅ Allowed |\n",
    "| **Indexing** | ✅ Supported | ✅ Supported | ❌ Not Supported | ✅ By key only | ✅ Supported |\n",
    "| **Slicing** | ✅ Supported | ✅ Supported | ❌ Not Supported | ❌ Not Supported | ✅ Supported |\n",
    "| **Syntax** | `[1, 2, 3]` | `(1, 2, 3)` | `{1, 2, 3}` | `{\"a\": 1}` | `\"hello\"` |\n",
    "| **Use Case** | General collection | Fixed data records | Unique items | Key-value mapping | Text data |\n",
    "| **Empty Creation** | `[]` or `list()` | `()` or `tuple()` | `set()` | `{}` or `dict()` | `\"\"` |\n",
    "| **Memory** | Higher | Lower | Medium | Higher | Lower |"
   ]
  },
  {
   "cell_type": "markdown",
   "id": "ac5569af-6783-40bc-b91f-fe45b5078b53",
   "metadata": {},
   "source": [
    "## 10. User-defined Functions\n",
    "User-defined functions are **custom** functions created by programmers to perform specific tasks, allowing **code reuse**, **modularity**, and **better organization**. Unlike built-in functions that come with Python, these functions are defined to **encapsulate** the required logic to execute multiple times.\n",
    "\n",
    "The `def` keyword is used to define a new function, followed by the function name, parameters (arguments) in parentheses, and a colon."
   ]
  },
  {
   "cell_type": "code",
   "execution_count": 52,
   "id": "d0f3dd5c-df70-4274-9d61-e3fdc2648550",
   "metadata": {},
   "outputs": [],
   "source": [
    "def function_name(parameters):\n",
    "    \"\"\"docstring\"\"\"\n",
    "    # function body\n",
    "    return value"
   ]
  },
  {
   "cell_type": "code",
   "execution_count": 56,
   "id": "40bc133e-38d7-4902-b127-f56919126646",
   "metadata": {},
   "outputs": [
    {
     "name": "stdout",
     "output_type": "stream",
     "text": [
      "Hello, welcome to Python!\n",
      "Hello, Masoud! Nice to meet you.\n",
      "The area of the rectangle is 8.\n"
     ]
    }
   ],
   "source": [
    "def greet():\n",
    "    \"\"\"Display a simple greeting message\"\"\"\n",
    "    print(\"Hello, welcome to Python!\")\n",
    "\n",
    "def greet_user(name):\n",
    "    \"\"\"Greet a specific user by name\"\"\"\n",
    "    print(f\"Hello, {name}! Nice to meet you.\")\n",
    "\n",
    "def calculate_area(length, width):\n",
    "    \"\"\"Calculate and return the area of a rectangle\"\"\"\n",
    "    area = length * width\n",
    "    return area\n",
    "\n",
    "# Call the functions\n",
    "greet()\n",
    "greet_user(\"Masoud\")\n",
    "\n",
    "rectangle_area = calculate_area(4, 2)\n",
    "print(f\"The area of the rectangle is {rectangle_area}.\")"
   ]
  },
  {
   "cell_type": "code",
   "execution_count": 62,
   "id": "13a6e0fc-61d3-4d99-bfeb-a47c26e46e86",
   "metadata": {},
   "outputs": [
    {
     "name": "stdout",
     "output_type": "stream",
     "text": [
      "I have a cat named Creme Puff.\n",
      "I have a dog named Bobi.\n",
      "Madjid is 47 years old and lives in Tehran.\n"
     ]
    }
   ],
   "source": [
    "def describe_pet(pet_name, animal_type=\"cat\"):\n",
    "    \"\"\"Display information about a pet with a default type\"\"\"\n",
    "    print(f\"I have a {animal_type} named {pet_name}.\")\n",
    "\n",
    "def get_user_info(name, age, city):\n",
    "    \"\"\"Return multiple user details as a tuple\"\"\"\n",
    "    return name, age, city  # Returns a tuple\n",
    "\n",
    "describe_pet(\"Creme Puff\")\n",
    "describe_pet(\"Bobi\" , \"dog\")\n",
    "\n",
    "user_information = get_user_info(\"Madjid\", 47, \"Tehran\")\n",
    "print(f\"{user_information[0]} is {user_information[1]} years old and lives in {user_information[2]}.\")"
   ]
  },
  {
   "cell_type": "markdown",
   "id": "708249d1-2159-409b-88a4-a8b422360385",
   "metadata": {},
   "source": [
    "### Lambda Functions\n",
    "Lambda functions are **anonymous, single-expression** functions defined using the `lambda` keyword, ideal for short, simple operations."
   ]
  },
  {
   "cell_type": "code",
   "execution_count": 104,
   "id": "6857dc20-9449-4e44-9b7d-834f8de8990d",
   "metadata": {},
   "outputs": [
    {
     "name": "stdout",
     "output_type": "stream",
     "text": [
      "25\n",
      "12\n"
     ]
    }
   ],
   "source": [
    "# Basic lambda function\n",
    "square = lambda x: x ** 2\n",
    "print(square(5))  # Output: 25\n",
    "\n",
    "# Lambda with multiple parameters\n",
    "multiply = lambda a, b: a * b\n",
    "print(multiply(3, 4))  # Output: 12"
   ]
  },
  {
   "cell_type": "markdown",
   "id": "cdc59a9e-c643-45b3-abea-a667130e50d7",
   "metadata": {},
   "source": [
    "### Type Hints\n",
    "Type hints provide **optional** type information for function parameters and return values, improving code **clarity** and enabling better IDE support. As mentioned before, Python is a dynamically typed language and type hints are not mandatory.Basic type hints specify expected types for parameters and return values."
   ]
  },
  {
   "cell_type": "code",
   "execution_count": 64,
   "id": "8c812125-4607-4ce8-b1e7-033018a55b97",
   "metadata": {},
   "outputs": [],
   "source": [
    "def greet(name: str) -> str:\n",
    "    \"\"\"Greet a person by name with type hints.\n",
    "    The input argument and the output are strings\"\"\"\n",
    "    return f\"Hello, {name}!\"\n",
    "\n",
    "def calculate_area(length: float, width: float) -> float:\n",
    "    \"\"\"Calculate area with float type hints\"\"\"\n",
    "    return length * width"
   ]
  },
  {
   "cell_type": "markdown",
   "id": "c759d72a-8908-4c09-a811-ad116aef3299",
   "metadata": {},
   "source": [
    "### Variable-length Arguments\n",
    "Handling **uncertain numbers of arguments** is possible using `*args` for positional arguments and `**kwargs` for keyword arguments. These special parameters allow functions to accept **variable numbers of arguments**, making functions more flexible.\n",
    "\n",
    "The `*args` collects any number of positional arguments into a **tuple** and `**kwargs` collects any number of keyword arguments into a **dictionary**."
   ]
  },
  {
   "cell_type": "code",
   "execution_count": 66,
   "id": "8d80c77f-2ed7-495e-b4c5-1da3c9f44f7b",
   "metadata": {},
   "outputs": [
    {
     "name": "stdout",
     "output_type": "stream",
     "text": [
      "6\n",
      "100\n",
      "{'name': 'Alice', 'age': 25, 'city': 'Boston', 'occupation': 'Engineer'}\n"
     ]
    }
   ],
   "source": [
    "def sum_numbers(*args):\n",
    "    \"\"\"Accept any number of arguments and return their sum\"\"\"\n",
    "    total = 0\n",
    "    for number in args:\n",
    "        total += number\n",
    "    return total\n",
    "\n",
    "def create_profile(**kwargs):\n",
    "    \"\"\"Accept any number of keyword arguments and create a profile\"\"\"\n",
    "    profile = {}\n",
    "    for key, value in kwargs.items():\n",
    "        profile[key] = value\n",
    "    return profile\n",
    "\n",
    "print(sum_numbers(1, 2, 3))        # Output: 6\n",
    "print(sum_numbers(10, 20, 30, 40)) # Output: 100\n",
    "\n",
    "user = create_profile(name=\"Alice\", age=25, city=\"Boston\", occupation=\"Engineer\")\n",
    "print(user)  # Output: {'name': 'Alice', 'age': 25, 'city': 'Boston', 'occupation': 'Engineer'}"
   ]
  },
  {
   "cell_type": "markdown",
   "id": "99bfaca9-169b-4124-b8a7-7bb627ec4a7e",
   "metadata": {},
   "source": [
    "## 11. Python Modules\n",
    "Modules are files containing Python code that define functions, classes, and variables that can be **reused** in other Python programs. They help **organize** code into **logical units**, promote code reuse, and prevent naming conflicts.\n",
    "\n",
    "It is possible to create a custom reusable module by saving the Python code in a `.py` file. In the following, it is assumed that a file naming `math_operations.py` has been created in a specific directory. The simplest case is to save the modules in the same directory as the main Python script."
   ]
  },
  {
   "cell_type": "raw",
   "id": "8c2588cd-8caf-4f57-98f4-2b50ce4d624a",
   "metadata": {},
   "source": [
    "project/\n",
    "├── main.py\n",
    "├── math_operations.py"
   ]
  },
  {
   "cell_type": "markdown",
   "id": "9f8d96d6-aacd-4941-af25-7f2a2566c737",
   "metadata": {},
   "source": [
    "A more **professinal** and detail tree structure that is closer to a real-world project is as follows."
   ]
  },
  {
   "cell_type": "raw",
   "id": "e26f5f68-69f4-4993-b596-281c610f13ed",
   "metadata": {},
   "source": [
    "project/\n",
    "├── src/\n",
    "│   ├── __init__.py\n",
    "│   ├── main.py\n",
    "│   └── utils/\n",
    "│       ├── __init__.py\n",
    "│       └── helpers.py\n",
    "├── tests/\n",
    "│   ├── __init__.py\n",
    "│   └── test_main.py\n",
    "├── docs/\n",
    "    └── installation.md\n",
    "│   └── tutorial.md\n",
    "├── requirements.txt\n",
    "└── setup.py"
   ]
  },
  {
   "cell_type": "markdown",
   "id": "bcdfeb50-0904-4248-90e9-1fb874d2189b",
   "metadata": {},
   "source": [
    "### Creating a Custom Module"
   ]
  },
  {
   "cell_type": "code",
   "execution_count": null,
   "id": "76e299df-efd3-4ad0-bfdf-63f149d4c331",
   "metadata": {},
   "outputs": [],
   "source": [
    "# Save as math_operations.py\n",
    "def add(a, b):\n",
    "    \"\"\"Return the sum of two numbers\"\"\"\n",
    "    return a + b\n",
    "\n",
    "def multiply(a, b):\n",
    "    \"\"\"Return the product of two numbers\"\"\"\n",
    "    return a * b\n",
    "\n",
    "PI = 3.14159"
   ]
  },
  {
   "cell_type": "markdown",
   "id": "0c3583f5-7c8d-41e1-bf88-9e3330383c55",
   "metadata": {},
   "source": [
    "### Importing Entire Modules\n",
    "It is possible to access all functions and variables from a module using the import statement."
   ]
  },
  {
   "cell_type": "code",
   "execution_count": null,
   "id": "320a57dd-55f4-4f6c-aa2c-ab10433df02a",
   "metadata": {},
   "outputs": [],
   "source": [
    "# This is main.py\n",
    "import math_operations\n",
    "\n",
    "result = math_operations.add(5, 3)\n",
    "print(result)  # Output: 8\n",
    "\n",
    "print(math_operations.PI)  # Output: 3.14159"
   ]
  },
  {
   "cell_type": "markdown",
   "id": "043f2979-1953-474f-b6ab-6ae73b6123cb",
   "metadata": {},
   "source": [
    "### Importing Everything from a Module\n",
    "Import all names from a module (Not recommended. This method must be used cautiously to avoid naming conflicts)."
   ]
  },
  {
   "cell_type": "code",
   "execution_count": null,
   "id": "6bc10672-9c8d-4f32-8bf0-f811e9e50422",
   "metadata": {},
   "outputs": [],
   "source": [
    "# This is main.py\n",
    "from math_operations import *\n",
    "\n",
    "result = add(5, 3)\n",
    "print(result)  # Output: 8\n",
    "\n",
    "print(PI)  # Output: 3.14159"
   ]
  },
  {
   "cell_type": "markdown",
   "id": "7c894e8a-8ccd-4634-afad-c18ebd40948e",
   "metadata": {},
   "source": [
    "### Importing Specific Items\n",
    "Here is how to import only the required components from a module."
   ]
  },
  {
   "cell_type": "code",
   "execution_count": null,
   "id": "30dd5bca-26a3-46da-ab3a-5007b215082f",
   "metadata": {},
   "outputs": [],
   "source": [
    "from math_operations import add, multiply\n",
    "\n",
    "result = add(10, 5)  # No need to use module prefix\n",
    "print(result)  # Output: 15\n",
    "\n",
    "product = multiply(4, 7)\n",
    "print(product)  # Output: 28"
   ]
  },
  {
   "cell_type": "markdown",
   "id": "e46a963c-b502-4c72-9b89-ec81b34e628d",
   "metadata": {},
   "source": [
    "### Importing with Aliases\n",
    "This means to use shorter names for modules or functions to make code more concise."
   ]
  },
  {
   "cell_type": "code",
   "execution_count": null,
   "id": "80d91b93-ffcb-4cb5-9e17-8e512935f22f",
   "metadata": {},
   "outputs": [],
   "source": [
    "import math_operations as mo\n",
    "from math_operations import multiply as mult\n",
    "\n",
    "result = mo.add(2, 3)  # Output: 5\n",
    "product = mult(3, 4)   # Output: 12"
   ]
  },
  {
   "cell_type": "markdown",
   "id": "7c7a2f62-d6c3-4273-93e1-8c8f1cdd36ca",
   "metadata": {},
   "source": [
    "### Built-in Python Modules\n",
    "Python comes with extensive **standard library** modules for common tasks. A few of them are introduced in the following."
   ]
  },
  {
   "cell_type": "markdown",
   "id": "798c0207-572f-43f3-942e-9c3d9d6f93a6",
   "metadata": {},
   "source": [
    "#### Math Module\n",
    "This module performs mathematical operations beyond basic arithmetic."
   ]
  },
  {
   "cell_type": "code",
   "execution_count": 69,
   "id": "e9c90369-1c1d-4340-84f2-0d2987fb5265",
   "metadata": {},
   "outputs": [
    {
     "name": "stdout",
     "output_type": "stream",
     "text": [
      "5.0\n",
      "120\n",
      "3.141592653589793\n"
     ]
    }
   ],
   "source": [
    "import math\n",
    "\n",
    "print(math.sqrt(25))      # Square root: 5.0\n",
    "print(math.factorial(5))  # Factorial: 120\n",
    "print(math.pi)           # Pi constant: 3.141592653589793"
   ]
  },
  {
   "cell_type": "markdown",
   "id": "b153e0aa-56db-464e-89f5-a5ddf3140092",
   "metadata": {},
   "source": [
    "#### Random Module\n",
    "This module generates random numbers and make random selections (It is better to say **pseudo random** numbers)."
   ]
  },
  {
   "cell_type": "code",
   "execution_count": 70,
   "id": "c6242b4e-32c3-4ab7-8f5d-fceffcd4e802",
   "metadata": {},
   "outputs": [
    {
     "name": "stdout",
     "output_type": "stream",
     "text": [
      "8\n",
      "apple\n",
      "['king', 'jack', 'queen', 'ace']\n"
     ]
    }
   ],
   "source": [
    "import random\n",
    "\n",
    "print(random.randint(1, 10))  # Random integer between 1-10\n",
    "print(random.choice(['apple', 'banana', 'cherry']))  # Random choice\n",
    "\n",
    "# Shuffle a list\n",
    "cards = ['ace', 'king', 'queen', 'jack']\n",
    "random.shuffle(cards)\n",
    "print(cards)"
   ]
  },
  {
   "cell_type": "markdown",
   "id": "46fb1739-1033-4111-9f31-4045fffa1dab",
   "metadata": {},
   "source": [
    "#### Datetime Module\n",
    "This module works with dates, times, and timestamps."
   ]
  },
  {
   "cell_type": "code",
   "execution_count": 72,
   "id": "b2be5874-ac0e-44e2-8294-a9b3384b31b5",
   "metadata": {},
   "outputs": [
    {
     "name": "stdout",
     "output_type": "stream",
     "text": [
      "2025-10-19 22:28:32.859189\n",
      "2025-10-19\n",
      "1990-05-15\n"
     ]
    }
   ],
   "source": [
    "import datetime\n",
    "\n",
    "current_time = datetime.datetime.now()\n",
    "print(current_time)\n",
    "\n",
    "today = datetime.date.today()\n",
    "print(today)\n",
    "\n",
    "# Create specific dates\n",
    "birthday = datetime.date(1990, 5, 15)\n",
    "print(birthday)"
   ]
  },
  {
   "cell_type": "markdown",
   "id": "885dc7c8-0a49-41d4-b592-711b073e465d",
   "metadata": {},
   "source": [
    "### Third-Party Libraries and Frameworks in Python\n",
    "Third-party libraries are packages created by the Python community that extend Python's capabilities beyond the built-in standard library. They provide specialized functionality for specific tasks like web development, data science, machine learning, and more. Python is a **high-level, general-purpose** programming language and one of its greatest strengths is its extensive ecosystem of libraries and frameworks, making it powerful across diverse domains like web development, data science, and artificial intelligence.\n",
    "\n",
    "`pip` (also known by Python 3's alias pip3) is a **package manager** (package management system) written in Python and is used to install and manage software packages and third-party libraries.\n",
    "\n",
    "```bash\n",
    "# Install a package\n",
    "pip install package_name\n",
    "\n",
    "# Install specific version\n",
    "pip install pandas==1.5.0\n",
    "\n",
    "# Install from requirements file\n",
    "pip install -r requirements.txt\n",
    "```"
   ]
  },
  {
   "cell_type": "markdown",
   "id": "1c2e1d83-f9df-4b5c-926e-6da3de8ed56f",
   "metadata": {},
   "source": [
    "## 12. File Handling"
   ]
  },
  {
   "cell_type": "code",
   "execution_count": null,
   "id": "5da68573-70af-4fd5-aa9e-d02550923e9d",
   "metadata": {},
   "outputs": [],
   "source": []
  },
  {
   "cell_type": "markdown",
   "id": "74cbced3-9265-449d-b9f2-ba3ab97c1bd5",
   "metadata": {},
   "source": [
    "## 13. Exceptions and Error Handling\n",
    "Exceptions are events that occur during program execution that disrupt the normal flow of instructions. When Python encounters an **error** it cannot handle, it creates an exception object and stops execution unless the exception is properly handled. These events can be handled and customized using `try` & `except` blocks. `try`tests a block of code and `except` is used to handle the error."
   ]
  },
  {
   "cell_type": "code",
   "execution_count": 76,
   "id": "4ccf666d-8a18-4e5f-945e-fd7603e40991",
   "metadata": {},
   "outputs": [
    {
     "ename": "NameError",
     "evalue": "name 'x' is not defined",
     "output_type": "error",
     "traceback": [
      "\u001b[31m---------------------------------------------------------------------------\u001b[39m",
      "\u001b[31mNameError\u001b[39m                                 Traceback (most recent call last)",
      "\u001b[36mCell\u001b[39m\u001b[36m \u001b[39m\u001b[32mIn[76]\u001b[39m\u001b[32m, line 2\u001b[39m\n\u001b[32m      1\u001b[39m \u001b[38;5;66;03m# Delete the variable x if already exits\u001b[39;00m\n\u001b[32m----> \u001b[39m\u001b[32m2\u001b[39m \u001b[38;5;28;01mdel\u001b[39;00m \u001b[43mx\u001b[49m\n\u001b[32m      4\u001b[39m \u001b[38;5;66;03m# Simple Exception Handling\u001b[39;00m\n\u001b[32m      5\u001b[39m \u001b[38;5;28;01mtry\u001b[39;00m:\n",
      "\u001b[31mNameError\u001b[39m: name 'x' is not defined"
     ]
    }
   ],
   "source": [
    "# Delete the variable x if already exits\n",
    "del x\n",
    "\n",
    "# Simple Exception Handling\n",
    "try:\n",
    "    print(x)\n",
    "except:\n",
    "    print(\"There is an error!\")"
   ]
  },
  {
   "cell_type": "markdown",
   "id": "380382fd-695f-48fc-9b90-46f0b835c836",
   "metadata": {},
   "source": [
    "### Famous Built-in Exceptions\n",
    "Python includes numerous built-in exceptions that handle **specific error** conditions automatically. Some of the predefined exception types are listed in the following and are triggered in response to particular error scenarios during program execution. Each exception type corresponds to a specific kind of problem, allowing developers to catch and handle different error conditions with precision rather than using generic error handling.\n",
    "\n",
    "1. NameError\n",
    "2. ValueError\n",
    "3. TypeError\n",
    "4. ZeroDivisionError\n",
    "5. ...\n",
    "\n",
    "Many exceptions can be executed as a response to an specific error."
   ]
  },
  {
   "cell_type": "markdown",
   "id": "27567c6e-bb25-4916-83a3-f198c6c00e08",
   "metadata": {},
   "source": [
    "#### NameError\n",
    "This error occurs when Python encounters a variable, function or class name that has not been defined in the current scope."
   ]
  },
  {
   "cell_type": "code",
   "execution_count": 102,
   "id": "f0835eb9-ab77-4bbd-a5c7-e36cf47cafe9",
   "metadata": {},
   "outputs": [
    {
     "name": "stdout",
     "output_type": "stream",
     "text": [
      "The variable is not defined.\n"
     ]
    }
   ],
   "source": [
    "try:\n",
    "    print(undefined_variable)\n",
    "except NameError:\n",
    "    print(\"The variable is not defined.\")"
   ]
  },
  {
   "cell_type": "code",
   "execution_count": 100,
   "id": "dd057627-d98e-4ee3-9d71-f420e15dac4a",
   "metadata": {},
   "outputs": [
    {
     "name": "stdout",
     "output_type": "stream",
     "text": [
      "An error occurred!\n"
     ]
    }
   ],
   "source": [
    "try:\n",
    "    print(int(\"2.5\"))\n",
    "except NameError:\n",
    "    print(\"No valid number!\")\n",
    "except:\n",
    "    print(\"An error occurred!\")"
   ]
  },
  {
   "cell_type": "markdown",
   "id": "854817b7-157b-434c-8fcc-50626aa2db1c",
   "metadata": {},
   "source": [
    "#### ValueError\n",
    "This error occurs when a function receives an argument of correct type but inappropriate value."
   ]
  },
  {
   "cell_type": "code",
   "execution_count": 78,
   "id": "94e494cc-4055-4d9e-a554-dee2a6aa08d5",
   "metadata": {},
   "outputs": [
    {
     "name": "stdin",
     "output_type": "stream",
     "text": [
      "Enter an integer number:  2.5\n"
     ]
    },
    {
     "name": "stdout",
     "output_type": "stream",
     "text": [
      "No valid number!\n"
     ]
    }
   ],
   "source": [
    "try:\n",
    "    print(int(input(\"Enter an integer number: \")))\n",
    "except ValueError: # ex: int(\"2.5\")\n",
    "    print(\"No valid number!\")"
   ]
  },
  {
   "cell_type": "code",
   "execution_count": 90,
   "id": "94b1e2bc-64e5-4683-8e95-45c62e5a738f",
   "metadata": {},
   "outputs": [
    {
     "name": "stdin",
     "output_type": "stream",
     "text": [
      "Enter an integer number:  12.8\n"
     ]
    },
    {
     "name": "stdout",
     "output_type": "stream",
     "text": [
      "No valid number!\n"
     ]
    },
    {
     "name": "stdin",
     "output_type": "stream",
     "text": [
      "Enter an integer number:  13.1\n"
     ]
    },
    {
     "name": "stdout",
     "output_type": "stream",
     "text": [
      "No valid number!\n"
     ]
    },
    {
     "name": "stdin",
     "output_type": "stream",
     "text": [
      "Enter an integer number:  29\n"
     ]
    },
    {
     "name": "stdout",
     "output_type": "stream",
     "text": [
      "Thanks!\n"
     ]
    }
   ],
   "source": [
    "while True:\n",
    "    try:\n",
    "        integer_number = int(input(\"Enter an integer number: \"))\n",
    "        print(\"Thanks!\")\n",
    "        break\n",
    "    except ValueError:\n",
    "        print(\"No valid number!\")"
   ]
  },
  {
   "cell_type": "markdown",
   "id": "461a842d-9448-479c-b762-2ce5ca178242",
   "metadata": {},
   "source": [
    "#### TypeError\n",
    "This error occurs when an operation is performed on an object of inappropriate type."
   ]
  },
  {
   "cell_type": "code",
   "execution_count": 80,
   "id": "a1f9543c-fed9-47c8-bbcc-4ff771893a32",
   "metadata": {},
   "outputs": [
    {
     "name": "stdin",
     "output_type": "stream",
     "text": [
      " 13\n"
     ]
    },
    {
     "name": "stdout",
     "output_type": "stream",
     "text": [
      "There was an unsupported operation!\n"
     ]
    }
   ],
   "source": [
    "number = input()\n",
    "try:\n",
    "    print(2 + number) #number is a string\n",
    "except TypeError:\n",
    "    print(\"There was an unsupported operation!\")"
   ]
  },
  {
   "cell_type": "markdown",
   "id": "2aeeee7e-d102-47a6-80e0-fb237693ada2",
   "metadata": {},
   "source": [
    "#### IndexError\n",
    "This error occurs when trying to access an index that doesn't exist in a sequence."
   ]
  },
  {
   "cell_type": "code",
   "execution_count": 97,
   "id": "bdcba174-c2d3-4f21-918b-49eecec20e6e",
   "metadata": {},
   "outputs": [
    {
     "name": "stdout",
     "output_type": "stream",
     "text": [
      "IndexError: list index out of range\n"
     ]
    }
   ],
   "source": [
    "try:\n",
    "    my_list = [1, 2, 3]\n",
    "    print(my_list[5])  # Index 5 doesn't exist\n",
    "except IndexError as e:\n",
    "    print(f\"IndexError: {e}\")"
   ]
  },
  {
   "cell_type": "markdown",
   "id": "8d94ddb2-60b2-409e-89b0-ea9ba2f7702b",
   "metadata": {},
   "source": [
    "#### ZeroDivisionError\n",
    "This error occurs when a program attempts to divide a number by zero, which is mathematically undefined and impossible to compute."
   ]
  },
  {
   "cell_type": "code",
   "execution_count": 92,
   "id": "b1386191-0a92-44f0-a999-1dc37241dc08",
   "metadata": {},
   "outputs": [
    {
     "name": "stdin",
     "output_type": "stream",
     "text": [
      "Enter a number and a non-zero number(e.g:10,2): 11,0\n"
     ]
    },
    {
     "name": "stdout",
     "output_type": "stream",
     "text": [
      "Second number can't be zero!\n"
     ]
    }
   ],
   "source": [
    "numbers = input(\"Enter a number and a non-zero number(e.g:10,2):\").split(\",\")\n",
    "try:\n",
    "    print(f\"The division is: {float(numbers[0]) / float(numbers[1])}\")\n",
    "except ZeroDivisionError:\n",
    "    print(\"Second number can't be zero!\")"
   ]
  },
  {
   "cell_type": "markdown",
   "id": "06897a74-87a5-4f9d-a148-f475046882ee",
   "metadata": {},
   "source": [
    "#### FileNotFoundError\n",
    "This error occurs when trying to open a file that doesn't exist."
   ]
  },
  {
   "cell_type": "code",
   "execution_count": 88,
   "id": "ad78b6c1-b211-4e40-8a8d-f1823438d269",
   "metadata": {},
   "outputs": [
    {
     "name": "stdout",
     "output_type": "stream",
     "text": [
      "Error: File not found!\n"
     ]
    }
   ],
   "source": [
    "try:\n",
    "    with open(\"missing_file.txt\", \"r\") as file:\n",
    "        content = file.read()\n",
    "except FileNotFoundError:\n",
    "    print(\"Error: File not found!\")"
   ]
  },
  {
   "cell_type": "markdown",
   "id": "8c09800e-f027-492b-811b-201726389542",
   "metadata": {},
   "source": [
    "### The `else` Keyword\n",
    "The `else` executes the code it includes when there is no error."
   ]
  },
  {
   "cell_type": "code",
   "execution_count": 85,
   "id": "b4ed4ecc-a201-454c-a25e-5a9200db817a",
   "metadata": {},
   "outputs": [
    {
     "name": "stdout",
     "output_type": "stream",
     "text": [
      "Hi there!\n",
      "There is no error!\n"
     ]
    }
   ],
   "source": [
    "try:\n",
    "    print(\"Hi there!\")\n",
    "except:\n",
    "    print(\"An error occurred!\")\n",
    "else:\n",
    "    print(\"There is no error!\")"
   ]
  },
  {
   "cell_type": "markdown",
   "id": "37727816-a0a3-4269-b7ff-2610af5e6621",
   "metadata": {},
   "source": [
    "### The `finally` Keyword\n",
    "This keyword executes the related code block regardless of the result."
   ]
  },
  {
   "cell_type": "code",
   "execution_count": 86,
   "id": "0b28ec52-e7f8-44b5-b4dc-da8700a79193",
   "metadata": {},
   "outputs": [
    {
     "name": "stdout",
     "output_type": "stream",
     "text": [
      "Something went wrong!\n",
      "End of the program.\n"
     ]
    }
   ],
   "source": [
    "try:\n",
    "    print(num)\n",
    "except:\n",
    "    print(\"Something went wrong!\")\n",
    "finally:\n",
    "    print(\"End of the program.\")"
   ]
  },
  {
   "cell_type": "code",
   "execution_count": null,
   "id": "dd99d45e-449e-4d1c-b60f-8d40da4d688a",
   "metadata": {},
   "outputs": [],
   "source": [
    "# Another example for a more robust file handling\n",
    "try:\n",
    "    file = open(\"text_file.txt\")\n",
    "finally:\n",
    "    file.close()"
   ]
  },
  {
   "cell_type": "markdown",
   "id": "96c3c6c7-ef85-48c4-808b-258f11eb90c3",
   "metadata": {},
   "source": [
    "### Raise a Custom Exception\n",
    "The `raise` keyword makes it possible to show a desired exception. Built-in exceptions can also be used as functions."
   ]
  },
  {
   "cell_type": "code",
   "execution_count": 93,
   "id": "0b7863f7-3fd8-400a-a506-bfebe55989be",
   "metadata": {},
   "outputs": [
    {
     "name": "stdin",
     "output_type": "stream",
     "text": [
      "Enter a positive number: -10\n"
     ]
    },
    {
     "ename": "Exception",
     "evalue": "Negetive numbers are not allowed!",
     "output_type": "error",
     "traceback": [
      "\u001b[31m---------------------------------------------------------------------------\u001b[39m",
      "\u001b[31mException\u001b[39m                                 Traceback (most recent call last)",
      "\u001b[36mCell\u001b[39m\u001b[36m \u001b[39m\u001b[32mIn[93]\u001b[39m\u001b[32m, line 3\u001b[39m\n\u001b[32m      1\u001b[39m positive_number = \u001b[38;5;28mint\u001b[39m(\u001b[38;5;28minput\u001b[39m(\u001b[33m\"\u001b[39m\u001b[33mEnter a positive number:\u001b[39m\u001b[33m\"\u001b[39m))\n\u001b[32m      2\u001b[39m \u001b[38;5;28;01mif\u001b[39;00m positive_number < \u001b[32m0\u001b[39m:\n\u001b[32m----> \u001b[39m\u001b[32m3\u001b[39m     \u001b[38;5;28;01mraise\u001b[39;00m \u001b[38;5;167;01mException\u001b[39;00m(\u001b[33m\"\u001b[39m\u001b[33mNegetive numbers are not allowed!\u001b[39m\u001b[33m\"\u001b[39m)\n",
      "\u001b[31mException\u001b[39m: Negetive numbers are not allowed!"
     ]
    }
   ],
   "source": [
    "positive_number = int(input(\"Enter a positive number:\"))\n",
    "if positive_number < 0:\n",
    "    raise Exception(\"Negetive numbers are not allowed!\")"
   ]
  },
  {
   "cell_type": "code",
   "execution_count": 96,
   "id": "e1e21efb-c0c7-4635-adac-6ca385c1e6ce",
   "metadata": {},
   "outputs": [
    {
     "ename": "TypeError",
     "evalue": "Only integers are allowed!",
     "output_type": "error",
     "traceback": [
      "\u001b[31m---------------------------------------------------------------------------\u001b[39m",
      "\u001b[31mTypeError\u001b[39m                                 Traceback (most recent call last)",
      "\u001b[36mCell\u001b[39m\u001b[36m \u001b[39m\u001b[32mIn[96]\u001b[39m\u001b[32m, line 4\u001b[39m\n\u001b[32m      1\u001b[39m string_variable = \u001b[33m\"\u001b[39m\u001b[33mString\u001b[39m\u001b[33m\"\u001b[39m\n\u001b[32m      3\u001b[39m \u001b[38;5;28;01mif\u001b[39;00m \u001b[38;5;129;01mnot\u001b[39;00m \u001b[38;5;28misinstance\u001b[39m(string_variable , \u001b[38;5;28mint\u001b[39m):\n\u001b[32m----> \u001b[39m\u001b[32m4\u001b[39m     \u001b[38;5;28;01mraise\u001b[39;00m \u001b[38;5;167;01mTypeError\u001b[39;00m(\u001b[33m\"\u001b[39m\u001b[33mOnly integers are allowed!\u001b[39m\u001b[33m\"\u001b[39m)\n",
      "\u001b[31mTypeError\u001b[39m: Only integers are allowed!"
     ]
    }
   ],
   "source": [
    "string_variable = \"String\"\n",
    "\n",
    "if not isinstance(string_variable , int):\n",
    "    raise TypeError(\"Only integers are allowed!\")"
   ]
  },
  {
   "cell_type": "markdown",
   "id": "c47c2a4e-546c-47a2-b089-6182ffbae0b3",
   "metadata": {},
   "source": [
    "## 14. Functional Programming"
   ]
  },
  {
   "cell_type": "markdown",
   "id": "9b2bd898-83d6-4acf-a592-8b675366e5df",
   "metadata": {},
   "source": [
    "### Lambda Functions\n",
    "Lambda functions are **anonymous, single-expression** functions defined using the `lambda` keyword, ideal for short, simple operations."
   ]
  },
  {
   "cell_type": "code",
   "execution_count": 105,
   "id": "8be14d51-51c0-4dfd-a29e-653e11d37ff1",
   "metadata": {},
   "outputs": [
    {
     "name": "stdout",
     "output_type": "stream",
     "text": [
      "25\n",
      "12\n"
     ]
    }
   ],
   "source": [
    "# Basic lambda function\n",
    "square = lambda x: x ** 2\n",
    "print(square(5))  # Output: 25\n",
    "\n",
    "# Lambda with multiple parameters\n",
    "multiply = lambda a, b: a * b\n",
    "print(multiply(3, 4))  # Output: 12"
   ]
  },
  {
   "cell_type": "markdown",
   "id": "174ca1dd-0857-4df4-b5a2-49494c8ec253",
   "metadata": {},
   "source": [
    "### Higher-order Functions"
   ]
  },
  {
   "cell_type": "code",
   "execution_count": null,
   "id": "6062702d-0e6b-4fd6-85e4-a36640d2e6ee",
   "metadata": {},
   "outputs": [],
   "source": []
  },
  {
   "cell_type": "markdown",
   "id": "bc99a82a-bb9a-459b-be0b-5b72b063e0be",
   "metadata": {},
   "source": [
    "### Generators"
   ]
  },
  {
   "cell_type": "code",
   "execution_count": null,
   "id": "b0c61bbc-f039-4ea1-8e1e-d5821191c9b4",
   "metadata": {},
   "outputs": [],
   "source": []
  },
  {
   "cell_type": "markdown",
   "id": "611de499-75b5-446b-87f2-fef84fdb3496",
   "metadata": {},
   "source": [
    "### Decorators"
   ]
  },
  {
   "cell_type": "code",
   "execution_count": null,
   "id": "42dce6f8-5b95-4265-bae2-08ec524cf621",
   "metadata": {},
   "outputs": [],
   "source": []
  },
  {
   "cell_type": "markdown",
   "id": "eae3b17d-f5c1-4cea-840c-7308931219f7",
   "metadata": {},
   "source": [
    "### Recursion"
   ]
  },
  {
   "cell_type": "code",
   "execution_count": null,
   "id": "68e0ec69-3daa-4741-b0df-4a32e67995e0",
   "metadata": {},
   "outputs": [],
   "source": []
  },
  {
   "cell_type": "markdown",
   "id": "8e8b8790-99f4-493e-bd4d-4fb6287ceec5",
   "metadata": {},
   "source": [
    "## 15. Fundamentals of Object-oriented Programming (OOP)"
   ]
  },
  {
   "cell_type": "code",
   "execution_count": null,
   "id": "44583ede-7e6c-4684-9147-4024d18bb6a7",
   "metadata": {},
   "outputs": [],
   "source": []
  },
  {
   "cell_type": "markdown",
   "id": "5f21b6e0-68c9-4b25-b790-369bc9312ed1",
   "metadata": {},
   "source": [
    "## 16. Packaging\n",
    "As mentioned before, Python is a high-level, general-purpose programming language renowned for its vast ecosystem of libraries and frameworks. This rich collection enables powerful applications across numerous domains.\n",
    "\n",
    "### Web Development\n",
    "- Backend Development - Django, Flask, FastAPI\n",
    "- Full-Stack Applications - Using frontend frameworks with Python APIs\n",
    "- RESTful APIs - Building scalable web services\n",
    "\n",
    "### Data Science and Analytics\n",
    "- Data Analysis - Pandas, NumPy for data manipulation and Matplotlib for Visulization\n",
    "- Statistical Computing - SciPy, StatsModels\n",
    "- Business Intelligence - Data visualization and reporting\n",
    "- Interactive Dashboards (Web Apps) - Reflex and Streamlit\n",
    "\n",
    "### Artificial Intelligence and Machine Learning\n",
    "- Machine Learning and Predictive Modeling - scikit-learn\n",
    "- Deep Learning - TensorFlow, PyTorch, Keras\n",
    "- Natural Language Processing - NLTK, spaCy, Transformers\n",
    "- Computer Vision - OpenCV, Pillow\n",
    "\n",
    "### Scientific Computing and Research\n",
    "- Academic Research - Physics, biology, chemistry simulations\n",
    "- Engineering - Scientific calculations and modeling\n",
    "- Mathematics - Symbolic math with SymPy\n",
    "- Data Visualization - Matplotlib, Seaborn, Plotly\n",
    "\n",
    "### Automation and Scripting\n",
    "- System Administration - Automated tasks and maintenance\n",
    "- DevOps - Infrastructure as code, deployment scripts\n",
    "- Web Scraping - Beautiful Soup, Scrapy\n",
    "- Testing Automation - Selenium, pytest\n",
    "\n",
    "### Desktop Applications\n",
    "- GUI Applications - Tkinter, PyQt, Kivy\n",
    "- Cross-Platform Tools - Applications running on Windows, Mac, Linux\n",
    "- Productivity Software - Custom business tools\n",
    "\n",
    "### Game Development\n",
    "- 2D/3D Games - PyGame, Arcade\n",
    "- Game Prototyping - Rapid development and testing\n",
    "- Educational Games - Interactive learning applications\n",
    "\n",
    "### Networking and Security\n",
    "- Network Programming - Socket programming, network tools\n",
    "- Cybersecurity - Security tools and penetration testing\n",
    "- API Development - Building and consuming web services\n",
    "\n",
    "### Internet of Things (IoT)\n",
    "- Embedded Systems - Raspberry Pi, Arduino programming\n",
    "- Sensor Data Processing - Collecting and analyzing IoT data\n",
    "- Smart Devices - Home automation and control systems\n",
    "\n",
    "### Finance and Trading (Fintech)\n",
    "- Quantitative Analysis - Financial modeling and algorithms\n",
    "- Algorithmic Trading - Automated trading systems\n",
    "- Risk Management - Financial risk assessment tools\n",
    "- Blockchain - Cryptocurrency and blockchain applications\n",
    "\n",
    "### Geospatial Analysis\n",
    "- GIS Applications - Geographic Information Systems\n",
    "- Mapping - Interactive maps and location services\n",
    "- Satellite Data - Processing remote sensing data\n",
    "\n",
    "This versatility, combined with Python's readable syntax and strong community support, makes it one of the most widely adopted programming languages across industries and applications."
   ]
  },
  {
   "cell_type": "markdown",
   "id": "8b1f14a7-2eea-40d0-925f-fe1f602be08a",
   "metadata": {},
   "source": [
    "## References\n",
    "\n",
    "[1] \"Python Documentation\", Python Official Website, https://docs.python.org, Accessed October 2025.\n",
    "\n",
    "[2] \"Python Tutorial\", W3Schools, https://www.w3schools.com/python/default.asp, Accessed October 2025.\n",
    "\n",
    "[3] \"Python Developer\", Sololearn, https://www.sololearn.com/, Accessed October 2025.\n",
    "\n",
    "[4] \"Learn Python - Free Interactive Python Tutorial\", https://www.learnpython.org/, Accessed October 2025.\n",
    "\n",
    "[5] Matthes, Eric., \"Python Crash Course: A Hands-On, Project-Based Introduction to Programming\", Third Edition, No Starch Press, 2023.\n",
    "\n",
    "[6] Lutz, Mark., \"Learning Python\", Fourth Edition, O’Reilly, 2009.\n",
    "\n",
    "[7] Sweigart, Al., \"Automate the boring stuff with Python: Practical programming for total beginners\", Second Edition, No Starch Press, 2019."
   ]
  },
  {
   "cell_type": "code",
   "execution_count": null,
   "id": "3f98096d-cc2a-4bae-957b-84a816bdde74",
   "metadata": {},
   "outputs": [],
   "source": []
  }
 ],
 "metadata": {
  "kernelspec": {
   "display_name": "Python 3 (ipykernel)",
   "language": "python",
   "name": "python3"
  },
  "language_info": {
   "codemirror_mode": {
    "name": "ipython",
    "version": 3
   },
   "file_extension": ".py",
   "mimetype": "text/x-python",
   "name": "python",
   "nbconvert_exporter": "python",
   "pygments_lexer": "ipython3",
   "version": "3.13.7"
  }
 },
 "nbformat": 4,
 "nbformat_minor": 5
}
