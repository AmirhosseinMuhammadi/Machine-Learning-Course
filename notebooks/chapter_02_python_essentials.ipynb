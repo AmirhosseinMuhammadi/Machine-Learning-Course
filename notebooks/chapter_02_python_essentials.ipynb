{
 "cells": [
  {
   "cell_type": "markdown",
   "id": "159b3fb2-ad3a-48a0-a258-e16d890b4212",
   "metadata": {},
   "source": [
    "# Chapter 2: Python Essentials\n",
    "**Python** is an easy to learn, powerful programming language. It has efficient **high-level data structures** and a simple but effective approach to **object-oriented** programming. Python’s elegant syntax and **dynamic typing**, together with its **interpreted** nature, make it an ideal language for scripting and rapid application development in many areas on most platforms [1].\n",
    "\n",
    "## Table of Contents\n",
    "- First Steps\n",
    "- Variables\n",
    "- Built-in Data Types\n",
    "- Python Operators\n",
    "- Basic Built-in Functions\n",
    "- Type Conversion\n",
    "- Comments\n",
    "- Conditions\n",
    "- Loops\n",
    "- Built-in Data Structures\n",
    "- Working on Strings\n",
    "- Python Modules\n",
    "- User-defined Functions\n",
    "- Exceptions and Files\n",
    "- Higher-order Functions\n",
    "- Generators\n",
    "- Decorators\n",
    "- Recursion\n",
    "- Fundamentals of OOP\n",
    "- Packaging\n",
    "- Python for Data Science"
   ]
  },
  {
   "cell_type": "markdown",
   "id": "17b59ac6-092a-455b-9746-88b4ee52e9a1",
   "metadata": {},
   "source": [
    "## 1. First Steps\n",
    "For executing Python scripts, its interpreter must be installed. The latest version of Python is available on its official website: https://www.python.org/. After installation, ```python``` command will be recognized by the system.\n",
    "\n",
    "Start Python shell (REPL) in your terminal/console/cmd:\n",
    "\n",
    "```bash\n",
    "python\n",
    "```\n",
    "```text\n",
    "Python 3.13.7 (main, Aug 14 2025, 14:15:11) \n",
    "Type \"help\", \"copyright\", \"credits\" or \"license\" for more information.\n",
    ">>>\n",
    "```\n",
    "\n",
    "Check Python version (exits immediately):\n",
    "```bash\n",
    "python --version\n",
    "```\n",
    "```text\n",
    "Python 3.13.7\n",
    "```\n",
    "\n",
    "Run a specific script called `my_script.py`:\n",
    "```bash\n",
    "cd /path/to/your/script/directory/\n",
    "python my_script.py\n",
    "```\n",
    "Replace `/path/to/your/script/directory/` with the actual path to your script.\n",
    "\n",
    "The first program can be written in any text editor as follows. `print()` is a built-in function that outputs a message to the user."
   ]
  },
  {
   "cell_type": "code",
   "execution_count": 12,
   "id": "15d8506a-ceeb-4990-979e-19c802948a1f",
   "metadata": {},
   "outputs": [
    {
     "name": "stdout",
     "output_type": "stream",
     "text": [
      "Hey There!\n"
     ]
    }
   ],
   "source": [
    "print(\"Hey There!\")"
   ]
  },
  {
   "cell_type": "markdown",
   "id": "35572b9b-a47c-4a2b-a9d4-1a0d18071960",
   "metadata": {},
   "source": [
    "## 2. Variables\n",
    "Variables are containers for storing data values. Unlike some other programming languages, Python has no command for declaring a variable - they are created when you first assign a value to them. This means python is a **dynamically typed** language."
   ]
  },
  {
   "cell_type": "code",
   "execution_count": 25,
   "id": "e3831e80-e044-477d-be27-55820b117608",
   "metadata": {},
   "outputs": [],
   "source": [
    "# Simple variable assignment\n",
    "name = \"Farhad\"\n",
    "age = 25\n",
    "height = 5.8\n",
    "is_student = True\n",
    "\n",
    "# Multiple assignment\n",
    "x, y = 1, 2"
   ]
  },
  {
   "cell_type": "markdown",
   "id": "cbf47f52-45c0-45b5-9315-b51920490384",
   "metadata": {},
   "source": [
    "### Descriptive Names\n",
    "Variables make Python flexible and easy to work with, while proper naming and organization ensure the code remains **readable** and **maintainable**. Descriptive names improve code readability and lead to **self-documented** scripts."
   ]
  },
  {
   "cell_type": "code",
   "execution_count": 16,
   "id": "a76fb823-e5bf-455d-a477-a774277d15e1",
   "metadata": {},
   "outputs": [],
   "source": [
    "# Good\n",
    "student_count = 25\n",
    "user_email = \"test@example.com\"\n",
    "\n",
    "# Bad\n",
    "sc = 25\n",
    "ue = \"test@example.com\""
   ]
  },
  {
   "cell_type": "markdown",
   "id": "7ce4f71e-4846-4ac9-9e64-86de491c4f6a",
   "metadata": {},
   "source": [
    "### Naming conventions\n",
    "Naming conventions are used for **clean** and **maintainable** code. There are lots of different naming conventions that are used for different purposes.\n",
    "\n",
    "**Python Standard Conventions**\n",
    "- **snake_case** - Used for variables, functions, and methods\n",
    "- **PascalCase** - Used for class names\n",
    "- **UPPER_SNAKE_CASE** - Used for constants\n",
    "\n",
    "**Other Programming Conventions**\n",
    "- **camelCase** - Common in other languages but not recommended in Python\n",
    "- **kebab-case** - Used in URLs and file names but invalid for Python identifiers\n",
    "- **UPPERCASE** - Typically used for acronyms within larger names\n",
    "\n",
    "**Special Python Conventions**\n",
    "- **Single character** - Used for mathematical variables and short-lived variables\n",
    "- **Leading underscore** - Indicates private variables and methods\n",
    "- **Double leading underscore** - Triggers name mangling for class attributes\n",
    "- **Double leading and trailing underscore** - Reserved for magic methods\n",
    "\n",
    "**Invalid Naming Patterns**\n",
    "- **Starting with digits** - Not allowed in any identifier\n",
    "- **Using hyphens** - Syntax error in Python identifiers\n",
    "- **Reserved keywords** - Cannot use Python language keywords as identifiers\n",
    "- **Special characters** - Most special characters are not allowed except underscore\n",
    "\n",
    "**Best Practices**\n",
    "- Use descriptive and meaningful names\n",
    "- Maintain consistency throughout the codebase\n",
    "- Follow established Python conventions for readability\n",
    "- Choose names that clearly indicate purpose and usage"
   ]
  },
  {
   "cell_type": "code",
   "execution_count": 19,
   "id": "41f5840d-335c-44d4-a9bd-d9283a618788",
   "metadata": {},
   "outputs": [
    {
     "ename": "SyntaxError",
     "evalue": "invalid decimal literal (2877325786.py, line 22)",
     "output_type": "error",
     "traceback": [
      "  \u001b[36mCell\u001b[39m\u001b[36m \u001b[39m\u001b[32mIn[19]\u001b[39m\u001b[32m, line 22\u001b[39m\n\u001b[31m    \u001b[39m\u001b[31m2nd_name = \"Smith\"    # Cannot start with digits\u001b[39m\n    ^\n\u001b[31mSyntaxError\u001b[39m\u001b[31m:\u001b[39m invalid decimal literal\n"
     ]
    }
   ],
   "source": [
    "# Single word\n",
    "name = \"Ali\"\n",
    "score = 80\n",
    "\n",
    "# Snake case for variables and user-defined functions (Python standard)\n",
    "first_name = \"Abbas\"\n",
    "total_score = 95\n",
    "\n",
    "# Constants (convention - not enforced)\n",
    "MAX_CONNECTIONS = 100\n",
    "API_KEY = \"secret123\"\n",
    "\n",
    "# Pascal case for classes\n",
    "class MyClass:\n",
    "    pass\n",
    "\n",
    "# Other naming conventions such as camel case (not recommended in Python)\n",
    "firstName = \"Farhad\"\n",
    "userAccountId = 1234\n",
    "\n",
    "# Invalid Examples\n",
    "2nd_name = \"Smith\"    # Cannot start with digits\n",
    "user-name = \"Bob\"     # No hyphens (kebab case)\n",
    "class = \"Math\"        # No reserved keywords"
   ]
  },
  {
   "cell_type": "markdown",
   "id": "576beeb9-ed3f-46c5-aa00-82df061f0268",
   "metadata": {},
   "source": [
    "## 3. Built-in Data Types\n",
    "Python organizes data types into several categories as shown in the following table.\n",
    "\n",
    "| Category | Data Types | Description |\n",
    "|----------|------------|-------------|\n",
    "| **Text Type** | `str` | String - for text data |\n",
    "| **Numeric Types** | `int`, `float`, `complex` | Integer, floating-point, and complex numbers |\n",
    "| **Sequence Types** | `list`, `tuple`, `range` | Ordered collections of items |\n",
    "| **Mapping Type** | `dict` | Key-value pairs (dictionary) |\n",
    "| **Set Types** | `set`, `frozenset` | Unordered collections of unique items |\n",
    "| **Boolean Type** | `bool` | Boolean values: `True` or `False` |\n",
    "| **Binary Types** | `bytes`, `bytearray`, `memoryview` | For handling binary data and memory |\n",
    "| **None Type** | `NoneType` | Represents absence of value: `None` |"
   ]
  },
  {
   "cell_type": "markdown",
   "id": "8f484679-2e29-4b67-bb84-f19f288e8c7e",
   "metadata": {},
   "source": [
    "### Quick Examples"
   ]
  },
  {
   "cell_type": "code",
   "execution_count": 26,
   "id": "c6bf84d2-cea9-4e95-b22c-80e8f972f25f",
   "metadata": {},
   "outputs": [],
   "source": [
    "text = \"Hello\"                                               # str\n",
    "number = 42                                                  # int  \n",
    "decimal = 3.14                                               # float\n",
    "numbers = [1, 2, 3]                                          # list\n",
    "key_values = {\"name\": \"Asghar\", \"last_name\": \"Farhadi\"}      # dict\n",
    "unique_items = {1, 2, 3}                                     # set\n",
    "is_valid = True                                              # bool\n",
    "binary_data = b\"hello\"                                       # bytes\n",
    "empty_value = None                                           # NoneType"
   ]
  },
  {
   "cell_type": "markdown",
   "id": "b1ca4ab7-5550-410b-a9bf-9fb2939564ce",
   "metadata": {},
   "source": [
    "### Type Checking"
   ]
  },
  {
   "cell_type": "code",
   "execution_count": 24,
   "id": "fb1c3815-a21d-4f47-bd29-0d049b91f47f",
   "metadata": {},
   "outputs": [
    {
     "name": "stdout",
     "output_type": "stream",
     "text": [
      "<class 'str'>\n"
     ]
    }
   ],
   "source": [
    "string = \"This is a sample string.\"\n",
    "print(type(string))"
   ]
  },
  {
   "cell_type": "markdown",
   "id": "ecb50f66-c6e5-425a-824f-e86cd157fd47",
   "metadata": {},
   "source": [
    "## 4. Python Operators\n",
    "Operators are special symbols that perform operations on variables and values. Python provides a rich set of operators for different purposes listed as follows.\n",
    "- Arithmetic operators\n",
    "- Assignment operators\n",
    "- Comparison operators\n",
    "- Logical operators\n",
    "- Identity operators\n",
    "- Membership operators\n",
    "- Bitwise operators"
   ]
  },
  {
   "cell_type": "markdown",
   "id": "aafd43c4-e313-4e5c-8f55-6b0321fc26ae",
   "metadata": {},
   "source": [
    "### Arithmetic Operators\n",
    "Used for mathematical operations.\n",
    "- `+` Addition\n",
    "- `-` Subtraction  \n",
    "- `*` Multiplication\n",
    "- `/` Division\n",
    "- `//` Floor Division\n",
    "- `%` Modulus\n",
    "- `**` Exponentiation"
   ]
  },
  {
   "cell_type": "code",
   "execution_count": 27,
   "id": "51b51e61-753f-44b4-89e7-cc382a7abf72",
   "metadata": {},
   "outputs": [
    {
     "name": "stdout",
     "output_type": "stream",
     "text": [
      "13\n",
      "7\n",
      "30\n",
      "3.3333333333333335\n",
      "3\n",
      "1\n",
      "1000\n"
     ]
    }
   ],
   "source": [
    "# Examples\n",
    "x, y = 10, 3\n",
    "\n",
    "print(x + y)   # 13\n",
    "print(x - y)   # 7\n",
    "print(x * y)   # 30\n",
    "print(x / y)   # 3.333...\n",
    "print(x // y)  # 3\n",
    "print(x % y)   # 1\n",
    "print(x ** y)  # 1000"
   ]
  },
  {
   "cell_type": "markdown",
   "id": "c2fedfec-71cc-443a-b72a-efb4a0016b78",
   "metadata": {},
   "source": [
    "### Assignment Operators\n",
    "Used to assign values to variables.\n",
    "- `=` Basic assignment\n",
    "- `+=` Add and assign\n",
    "- `-=` Subtract and assign\n",
    "- `*=` Multiply and assign\n",
    "- `/=` Divide and assign\n",
    "- `//=` Floor divide and assign\n",
    "- `%=` Modulus and assign\n",
    "- `**=` Exponentiate and assign"
   ]
  },
  {
   "cell_type": "code",
   "execution_count": 29,
   "id": "bb1e33d9-10a3-4497-9f8e-e545efb73036",
   "metadata": {},
   "outputs": [
    {
     "name": "stdout",
     "output_type": "stream",
     "text": [
      "3.0\n"
     ]
    }
   ],
   "source": [
    "# Examples\n",
    "x = 10\n",
    "x += 5    # x = 15\n",
    "x -= 3    # x = 12\n",
    "x *= 2    # x = 24\n",
    "x /= 4    # x = 6.0\n",
    "x //= 2   # x = 3.0\n",
    "\n",
    "print(x)"
   ]
  },
  {
   "cell_type": "markdown",
   "id": "07e7ab56-604c-4d2b-8886-4cced8bd843b",
   "metadata": {},
   "source": [
    "### Comparison Operators\n",
    "Used to compare two values. Return boolean values of `True` or `False`.\n",
    "- `==` Equal to\n",
    "- `!=` Not equal to\n",
    "- `>` Greater than\n",
    "- `<` Less than\n",
    "- `>=` Greater than or equal to\n",
    "- `<=` Less than or equal to"
   ]
  },
  {
   "cell_type": "code",
   "execution_count": 30,
   "id": "7519b9f8-3cfd-43b4-84a4-50cf271f843e",
   "metadata": {},
   "outputs": [
    {
     "name": "stdout",
     "output_type": "stream",
     "text": [
      "False\n",
      "True\n",
      "True\n",
      "False\n",
      "True\n",
      "False\n"
     ]
    }
   ],
   "source": [
    "# Examples\n",
    "a, b = 10, 5\n",
    "\n",
    "print(a == b)   # False\n",
    "print(a != b)   # True\n",
    "print(a > b)    # True\n",
    "print(a < b)    # False\n",
    "print(a >= 10)  # True\n",
    "print(a <= 5)   # False"
   ]
  },
  {
   "cell_type": "markdown",
   "id": "b8225e37-8c12-423a-acd3-c2661ddcbe44",
   "metadata": {},
   "source": [
    "### Logical Operators\n",
    "Used to combine conditional statements.\n",
    "- `and` Logical AND\n",
    "- `or` Logical OR  \n",
    "- `not` Logical NOT"
   ]
  },
  {
   "cell_type": "code",
   "execution_count": 31,
   "id": "700241ca-7b66-4632-adae-95630f83ac55",
   "metadata": {},
   "outputs": [
    {
     "name": "stdout",
     "output_type": "stream",
     "text": [
      "True\n",
      "True\n",
      "False\n",
      "True\n",
      "False\n",
      "True\n",
      "True\n"
     ]
    }
   ],
   "source": [
    "# Examples\n",
    "x = 5\n",
    "\n",
    "print(x > 3 and x < 10)   # True\n",
    "print(x > 3 or x < 4)     # True\n",
    "print(not(x > 3))         # False\n",
    "\n",
    "# Truth table behavior\n",
    "print(True and True)      # True\n",
    "print(True and False)     # False\n",
    "print(False or True)      # True\n",
    "print(not False)          # True"
   ]
  },
  {
   "cell_type": "markdown",
   "id": "fed85caf-4314-4773-90d5-d1b8c0facd3c",
   "metadata": {},
   "source": [
    "### Identity Operators\n",
    "Used to compare objects (memory location), not values.\n",
    "- `is` Same object\n",
    "- `is not` Not same object"
   ]
  },
  {
   "cell_type": "code",
   "execution_count": 32,
   "id": "4c506371-71a8-4d09-86ec-8a9217d417cf",
   "metadata": {},
   "outputs": [
    {
     "name": "stdout",
     "output_type": "stream",
     "text": [
      "False\n",
      "True\n",
      "True\n",
      "True\n",
      "True\n"
     ]
    }
   ],
   "source": [
    "# Examples\n",
    "a = [1, 2, 3]\n",
    "b = [1, 2, 3]\n",
    "c = a\n",
    "\n",
    "print(a is b)        # False (different objects)\n",
    "print(a is c)        # True (same object)\n",
    "print(a == b)        # True (same values)\n",
    "print(a is not b)    # True\n",
    "\n",
    "# Special case with small integers\n",
    "x = 256\n",
    "y = 256\n",
    "print(x is y)        # True (Python interns small integers)"
   ]
  },
  {
   "cell_type": "markdown",
   "id": "b1da7c24-418e-4371-bea1-316b5314fea3",
   "metadata": {},
   "source": [
    "### Membership Operators\n",
    "Used to test if a sequence is present in an object.\n",
    "- `in` Present in sequence\n",
    "- `not in` Not present in sequence"
   ]
  },
  {
   "cell_type": "code",
   "execution_count": 33,
   "id": "0636b147-2d8f-4e8b-a397-0f46ff1116e6",
   "metadata": {},
   "outputs": [
    {
     "name": "stdout",
     "output_type": "stream",
     "text": [
      "True\n",
      "False\n",
      "True\n",
      "True\n",
      "True\n",
      "True\n",
      "False\n"
     ]
    }
   ],
   "source": [
    "# Examples\n",
    "fruits = [\"apple\", \"banana\", \"cherry\"]\n",
    "\n",
    "print(\"apple\" in fruits)      # True\n",
    "print(\"orange\" in fruits)     # False\n",
    "print(\"mango\" not in fruits)  # True\n",
    "\n",
    "# Works with strings, lists, tuples, dictionaries (keys)\n",
    "text = \"Hello World\"\n",
    "print(\"Hello\" in text)        # True\n",
    "print(\"Python\" not in text)   # True\n",
    "\n",
    "# With dictionaries\n",
    "person = {\"name\": \"John\", \"age\": 30}\n",
    "print(\"name\" in person)       # True (checks keys)\n",
    "print(\"John\" in person)       # False (doesn't check values)"
   ]
  },
  {
   "cell_type": "markdown",
   "id": "d4eca821-41fa-44d2-ad76-36933c5bea9b",
   "metadata": {},
   "source": [
    "### Bitwise Operators\n",
    "Used to compare (binary) numbers.\n",
    "- `&` Bitwise AND\n",
    "- `|` Bitwise OR\n",
    "- `^` Bitwise XOR\n",
    "- `~` Bitwise NOT\n",
    "- `<<` Left shift\n",
    "- `>>` Right shift"
   ]
  },
  {
   "cell_type": "code",
   "execution_count": 34,
   "id": "7609554e-13ab-4089-ba4d-4bec3d922497",
   "metadata": {},
   "outputs": [
    {
     "name": "stdout",
     "output_type": "stream",
     "text": [
      "0\n",
      "14\n",
      "14\n",
      "-11\n",
      "40\n",
      "5\n"
     ]
    }
   ],
   "source": [
    "# Examples\n",
    "a = 10    # 1010 in binary\n",
    "b = 4     # 0100 in binary\n",
    "\n",
    "print(a & b)   # 0  (1000 & 0100 = 0000)\n",
    "print(a | b)   # 14 (1010 | 0100 = 1110)\n",
    "print(a ^ b)   # 14 (1010 ^ 0100 = 1110)\n",
    "print(~a)      # -11 (inverts bits)\n",
    "print(a << 2)  # 40 (1010 → 101000)\n",
    "print(a >> 1)  # 5  (1010 → 0101)"
   ]
  },
  {
   "cell_type": "markdown",
   "id": "290bd40d-cc2b-4f29-8a63-17ad49f6d09b",
   "metadata": {},
   "source": [
    "## 5. Basic Built-in Functions"
   ]
  },
  {
   "cell_type": "markdown",
   "id": "8b1f14a7-2eea-40d0-925f-fe1f602be08a",
   "metadata": {},
   "source": [
    "## References\n",
    "\n",
    "[1] \"Python Documentation\", Python Official Website, https://docs.python.org, Accessed October 2025.\n",
    "\n",
    "[2] \"Python Tutorial\", W3Schools, https://www.w3schools.com/python/default.asp, Accessed October 2025.\n",
    "\n",
    "[3] \"Python Developer\", Sololearn, https://www.sololearn.com/, Accessed October 2025."
   ]
  },
  {
   "cell_type": "code",
   "execution_count": null,
   "id": "3f98096d-cc2a-4bae-957b-84a816bdde74",
   "metadata": {},
   "outputs": [],
   "source": []
  }
 ],
 "metadata": {
  "kernelspec": {
   "display_name": "Python 3 (ipykernel)",
   "language": "python",
   "name": "python3"
  },
  "language_info": {
   "codemirror_mode": {
    "name": "ipython",
    "version": 3
   },
   "file_extension": ".py",
   "mimetype": "text/x-python",
   "name": "python",
   "nbconvert_exporter": "python",
   "pygments_lexer": "ipython3",
   "version": "3.13.7"
  }
 },
 "nbformat": 4,
 "nbformat_minor": 5
}
