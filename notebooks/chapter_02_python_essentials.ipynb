{
 "cells": [
  {
   "cell_type": "markdown",
   "id": "159b3fb2-ad3a-48a0-a258-e16d890b4212",
   "metadata": {},
   "source": [
    "# Chapter 2: Python Essentials\n",
    "**Python** is an easy to learn, powerful programming language. It has efficient **high-level data structures** and a simple but effective approach to **object-oriented** programming. Python’s elegant syntax and **dynamic typing**, together with its **interpreted** nature, make it an ideal language for scripting and rapid application development in many areas on most platforms [1].\n",
    "\n",
    "## Table of Contents\n",
    "- Getting Started\n",
    "- Basic Syntax and Variables\n",
    "- Built-in Data Types\n",
    "- Python Operators\n",
    "- Type Conversion\n",
    "- Comments\n",
    "- Conditions\n",
    "- Loops\n",
    "- Built-in Data Structures\n",
    "- Working on Strings\n",
    "- Python Modules\n",
    "- User-defined Functions\n",
    "- Exceptions and Files\n",
    "- Higher-order Functions\n",
    "- Generators\n",
    "- Decorators\n",
    "- Recursion\n",
    "- Fundamentals of OOP\n",
    "- Packaging\n",
    "- Python for Data Science"
   ]
  },
  {
   "cell_type": "markdown",
   "id": "17b59ac6-092a-455b-9746-88b4ee52e9a1",
   "metadata": {},
   "source": [
    "## 1. Getting Started\n",
    "For executing Python scripts, its interpreter must be installed. The latest version of Python is available on its official website: https://www.python.org/. After installation, ```python``` command will be recognized by the system.\n",
    "\n",
    "Start Python shell (REPL) in your terminal/console/cmd:\n",
    "\n",
    "```bash\n",
    "python\n",
    "```\n",
    "```text\n",
    "Python 3.13.7 (main, Aug 14 2025, 14:15:11) \n",
    "Type \"help\", \"copyright\", \"credits\" or \"license\" for more information.\n",
    ">>>\n",
    "```\n",
    "\n",
    "Check Python version (exits immediately):\n",
    "```bash\n",
    "python --version\n",
    "```\n",
    "```text\n",
    "Python 3.13.7\n",
    "```\n",
    "\n",
    "Run a specific script called `my_script.py`:\n",
    "```bash\n",
    "cd /path/to/your/script/directory/\n",
    "python my_script.py\n",
    "```\n",
    "Replace `/path/to/your/script/directory/` with the actual path to your script.\n",
    "\n",
    "The first program can be written in any text editor as follows. `print()` is a built-in function that outputs a message to the user."
   ]
  },
  {
   "cell_type": "code",
   "execution_count": 1,
   "id": "15d8506a-ceeb-4990-979e-19c802948a1f",
   "metadata": {},
   "outputs": [
    {
     "name": "stdout",
     "output_type": "stream",
     "text": [
      "Hey There!\n"
     ]
    }
   ],
   "source": [
    "print(\"Hey There!\")"
   ]
  },
  {
   "cell_type": "markdown",
   "id": "35572b9b-a47c-4a2b-a9d4-1a0d18071960",
   "metadata": {},
   "source": [
    "## 2. Basic Syntax and Variables\n",
    "Variables are containers for storing data values. Unlike some other programming languages, Python has no command for declaring a variable - they are created when you first assign a value to them. This means python is a **dynamically typed** language."
   ]
  },
  {
   "cell_type": "code",
   "execution_count": 25,
   "id": "e3831e80-e044-477d-be27-55820b117608",
   "metadata": {},
   "outputs": [],
   "source": [
    "# Simple variable assignment\n",
    "name = \"Farhad\"\n",
    "age = 25\n",
    "height = 5.8\n",
    "is_student = True\n",
    "\n",
    "# Multiple assignment\n",
    "x, y = 1, 2"
   ]
  },
  {
   "cell_type": "markdown",
   "id": "cbf47f52-45c0-45b5-9315-b51920490384",
   "metadata": {},
   "source": [
    "#### Descriptive Names\n",
    "Variables make Python flexible and easy to work with, while proper naming and organization ensure the code remains **readable** and **maintainable**. Descriptive names improve code readability and lead to **self-documented** scripts."
   ]
  },
  {
   "cell_type": "code",
   "execution_count": 16,
   "id": "a76fb823-e5bf-455d-a477-a774277d15e1",
   "metadata": {},
   "outputs": [],
   "source": [
    "# Good\n",
    "student_count = 25\n",
    "user_email = \"test@example.com\"\n",
    "\n",
    "# Bad\n",
    "sc = 25\n",
    "ue = \"test@example.com\""
   ]
  },
  {
   "cell_type": "markdown",
   "id": "7ce4f71e-4846-4ac9-9e64-86de491c4f6a",
   "metadata": {},
   "source": [
    "#### Naming conventions\n",
    "Naming conventions are used for **clean** and **maintainable** code. There are lots of different naming conventions that are used for different purposes.\n",
    "\n",
    "**Python Standard Conventions**\n",
    "- **snake_case** - Used for variables, functions, and methods\n",
    "- **PascalCase** - Used for class names\n",
    "- **UPPER_SNAKE_CASE** - Used for constants\n",
    "\n",
    "**Other Programming Conventions**\n",
    "- **camelCase** - Common in other languages but not recommended in Python\n",
    "- **kebab-case** - Used in URLs and file names but invalid for Python identifiers\n",
    "- **UPPERCASE** - Typically used for acronyms within larger names\n",
    "\n",
    "**Special Python Conventions**\n",
    "- **Single character** - Used for mathematical variables and short-lived variables\n",
    "- **Leading underscore** - Indicates private variables and methods\n",
    "- **Double leading underscore** - Triggers name mangling for class attributes\n",
    "- **Double leading and trailing underscore** - Reserved for magic methods\n",
    "\n",
    "**Invalid Naming Patterns**\n",
    "- **Starting with digits** - Not allowed in any identifier\n",
    "- **Using hyphens** - Syntax error in Python identifiers\n",
    "- **Reserved keywords** - Cannot use Python language keywords as identifiers\n",
    "- **Special characters** - Most special characters are not allowed except underscore\n",
    "\n",
    "**Best Practices**\n",
    "- Use descriptive and meaningful names\n",
    "- Maintain consistency throughout the codebase\n",
    "- Follow established Python conventions for readability\n",
    "- Choose names that clearly indicate purpose and usage"
   ]
  },
  {
   "cell_type": "code",
   "execution_count": 19,
   "id": "41f5840d-335c-44d4-a9bd-d9283a618788",
   "metadata": {},
   "outputs": [
    {
     "ename": "SyntaxError",
     "evalue": "invalid decimal literal (2877325786.py, line 22)",
     "output_type": "error",
     "traceback": [
      "  \u001b[36mCell\u001b[39m\u001b[36m \u001b[39m\u001b[32mIn[19]\u001b[39m\u001b[32m, line 22\u001b[39m\n\u001b[31m    \u001b[39m\u001b[31m2nd_name = \"Smith\"    # Cannot start with digits\u001b[39m\n    ^\n\u001b[31mSyntaxError\u001b[39m\u001b[31m:\u001b[39m invalid decimal literal\n"
     ]
    }
   ],
   "source": [
    "# Single word\n",
    "name = \"Ali\"\n",
    "score = 80\n",
    "\n",
    "# Snake case for variables and user-defined functions (Python standard)\n",
    "first_name = \"Abbas\"\n",
    "total_score = 95\n",
    "\n",
    "# Constants (convention - not enforced)\n",
    "MAX_CONNECTIONS = 100\n",
    "API_KEY = \"secret123\"\n",
    "\n",
    "# Pascal case for classes\n",
    "class MyClass:\n",
    "    pass\n",
    "\n",
    "# Other naming conventions such as camel case (not recommended in Python)\n",
    "firstName = \"Farhad\"\n",
    "userAccountId = 1234\n",
    "\n",
    "# Invalid Examples\n",
    "2nd_name = \"Smith\"    # Cannot start with digits\n",
    "user-name = \"Bob\"     # No hyphens (kebab case)\n",
    "class = \"Math\"        # No reserved keywords"
   ]
  },
  {
   "cell_type": "markdown",
   "id": "290bd40d-cc2b-4f29-8a63-17ad49f6d09b",
   "metadata": {},
   "source": [
    "#### Built-in Functions\n",
    "A function is a reusable block of code that performs a specific task and can be called multiple times throughout a program. It can take many arguments as input and also can be user-defined or already built-in Python."
   ]
  },
  {
   "cell_type": "markdown",
   "id": "22ce1f0a-9988-42bb-b22f-c3ef20762f80",
   "metadata": {},
   "source": [
    "#### Basic Printing\n",
    "As discussed before, the `print()` function displays data to the console, allowing to show messages, variables, and results to the users."
   ]
  },
  {
   "cell_type": "code",
   "execution_count": 2,
   "id": "1179dff0-bcea-41da-a409-d90b1b1bb192",
   "metadata": {},
   "outputs": [
    {
     "name": "stdout",
     "output_type": "stream",
     "text": [
      "Hey There.\n",
      "42\n",
      "3.14\n"
     ]
    }
   ],
   "source": [
    "print(\"Hey There.\")                    # Hey There.\n",
    "print(42)                              # 42\n",
    "print(3.14)                            # 3.14"
   ]
  },
  {
   "cell_type": "markdown",
   "id": "267d94fe-3493-4108-a825-5e4c8bdd7d91",
   "metadata": {},
   "source": [
    "#### Multiple Items"
   ]
  },
  {
   "cell_type": "code",
   "execution_count": 5,
   "id": "35a8df6c-0163-474b-8ab5-973ce4c32a23",
   "metadata": {},
   "outputs": [
    {
     "name": "stdout",
     "output_type": "stream",
     "text": [
      "Alice is 25 years old.\n"
     ]
    }
   ],
   "source": [
    "name = \"Alice\"\n",
    "age = 25\n",
    "print(name, \"is\", age, \"years old.\")"
   ]
  },
  {
   "cell_type": "markdown",
   "id": "aa7b201a-5a48-452a-9d95-a3d18f3202a8",
   "metadata": {},
   "source": [
    "#### Formatting Output"
   ]
  },
  {
   "cell_type": "code",
   "execution_count": 11,
   "id": "44ef9b42-5f9f-4e66-8bf5-398b354a9664",
   "metadata": {},
   "outputs": [
    {
     "name": "stdout",
     "output_type": "stream",
     "text": [
      "Amir is 25 years old\n",
      "Amir is 25 years old\n",
      "Python-is-awesome!\n"
     ]
    }
   ],
   "source": [
    "# Using f-strings (Python 3.6+)\n",
    "print(f\"{name} is {age} years old\")    # Alice is 25 years old\n",
    "\n",
    "# Using format() method\n",
    "print(\"{} is {} years old\".format(name, age))\n",
    "\n",
    "# With separators and end characters\n",
    "print(\"Python\", \"is\", \"awesome\", sep=\"-\", end=\"!\\n\")  # Python-is-awesome!"
   ]
  },
  {
   "cell_type": "markdown",
   "id": "f043e2bd-b189-4851-85c4-c9d18e9acd58",
   "metadata": {},
   "source": [
    "#### Basic Input\n",
    "The `input()` function captures user input from the keyboard and always returns it as a string."
   ]
  },
  {
   "cell_type": "code",
   "execution_count": 32,
   "id": "55d6071d-5787-46e8-9f4d-7ab0439f959f",
   "metadata": {},
   "outputs": [
    {
     "name": "stdin",
     "output_type": "stream",
     "text": [
      "Enter your name:  Amir\n"
     ]
    },
    {
     "name": "stdout",
     "output_type": "stream",
     "text": [
      "Hello Amir\n"
     ]
    }
   ],
   "source": [
    "name = input(\"Enter your name: \")\n",
    "# User types their name\n",
    "print(f\"Hello {user_name}\")                # Hello, user's name"
   ]
  },
  {
   "cell_type": "markdown",
   "id": "d55c23ad-4e44-4b14-851f-da632660a757",
   "metadata": {},
   "source": [
    "#### Numerical Input (requires conversion)"
   ]
  },
  {
   "cell_type": "code",
   "execution_count": 17,
   "id": "6284ed71-1814-4594-a37f-0c42a01a4b65",
   "metadata": {},
   "outputs": [
    {
     "name": "stdin",
     "output_type": "stream",
     "text": [
      "Enter your age:  13\n"
     ]
    },
    {
     "name": "stdout",
     "output_type": "stream",
     "text": [
      "<class 'str'>\n",
      "<class 'int'>\n",
      "Next year you'll be: 14\n"
     ]
    }
   ],
   "source": [
    "age = input(\"Enter your age: \")        # User types: 13\n",
    "print(type(age))                       # <class 'str'> - input always returns string\n",
    "\n",
    "# Convert to integer\n",
    "int_age = int(age)\n",
    "print(type(int_age))                   # <class 'int'>\n",
    "print(f\"Next year you'll be: {age_int + 1}\")  # Next year you'll be: 14"
   ]
  },
  {
   "cell_type": "code",
   "execution_count": 24,
   "id": "e871ffc2-3339-4b86-a915-f4e036e4d39c",
   "metadata": {},
   "outputs": [
    {
     "name": "stdin",
     "output_type": "stream",
     "text": [
      "Enter mass in kg:  5\n",
      "Enter velocity in m/s:  1\n"
     ]
    },
    {
     "name": "stdout",
     "output_type": "stream",
     "text": [
      "Kinetic energy: 2.50 Joules\n"
     ]
    }
   ],
   "source": [
    "# Physics calculation with floats\n",
    "mass = float(input(\"Enter mass in kg: \"))\n",
    "velocity = float(input(\"Enter velocity in m/s: \"))\n",
    "kinetic_energy = 0.5 * mass * velocity ** 2\n",
    "print(f\"Kinetic energy: {kinetic_energy:.2f} Joules\")"
   ]
  },
  {
   "cell_type": "markdown",
   "id": "576beeb9-ed3f-46c5-aa00-82df061f0268",
   "metadata": {},
   "source": [
    "## 3. Built-in Data Types\n",
    "Python organizes data types into several categories as shown in the following table.\n",
    "\n",
    "| Category | Data Types | Description |\n",
    "|----------|------------|-------------|\n",
    "| **Text Type** | `str` | String - for text data |\n",
    "| **Numeric Types** | `int`, `float`, `complex` | Integer, floating-point, and complex numbers |\n",
    "| **Sequence Types** | `list`, `tuple`, `range` | Ordered collections of items |\n",
    "| **Mapping Type** | `dict` | Key-value pairs (dictionary) |\n",
    "| **Set Types** | `set`, `frozenset` | Unordered collections of unique items |\n",
    "| **Boolean Type** | `bool` | Boolean values: `True` or `False` |\n",
    "| **Binary Types** | `bytes`, `bytearray`, `memoryview` | For handling binary data and memory |\n",
    "| **None Type** | `NoneType` | Represents absence of value: `None` |"
   ]
  },
  {
   "cell_type": "markdown",
   "id": "8f484679-2e29-4b67-bb84-f19f288e8c7e",
   "metadata": {},
   "source": [
    "#### Quick Examples"
   ]
  },
  {
   "cell_type": "code",
   "execution_count": 26,
   "id": "c6bf84d2-cea9-4e95-b22c-80e8f972f25f",
   "metadata": {},
   "outputs": [],
   "source": [
    "text = \"Hello\"                                               # str\n",
    "number = 42                                                  # int  \n",
    "decimal = 3.14                                               # float\n",
    "numbers = [1, 2, 3]                                          # list\n",
    "key_values = {\"name\": \"Asghar\", \"last_name\": \"Farhadi\"}      # dict\n",
    "unique_items = {1, 2, 3}                                     # set\n",
    "is_valid = True                                              # bool\n",
    "binary_data = b\"hello\"                                       # bytes\n",
    "empty_value = None                                           # NoneType"
   ]
  },
  {
   "cell_type": "markdown",
   "id": "b1ca4ab7-5550-410b-a9bf-9fb2939564ce",
   "metadata": {},
   "source": [
    "#### Type Checking"
   ]
  },
  {
   "cell_type": "code",
   "execution_count": 24,
   "id": "fb1c3815-a21d-4f47-bd29-0d049b91f47f",
   "metadata": {},
   "outputs": [
    {
     "name": "stdout",
     "output_type": "stream",
     "text": [
      "<class 'str'>\n"
     ]
    }
   ],
   "source": [
    "string = \"This is a sample string.\"\n",
    "print(type(string))"
   ]
  },
  {
   "cell_type": "markdown",
   "id": "ecb50f66-c6e5-425a-824f-e86cd157fd47",
   "metadata": {},
   "source": [
    "## 4. Python Operators\n",
    "Operators are special symbols that perform operations on variables and values. Python provides a rich set of operators for different purposes listed as follows.\n",
    "- Arithmetic operators\n",
    "- Assignment operators\n",
    "- Comparison operators\n",
    "- Logical operators\n",
    "- Identity operators\n",
    "- Membership operators\n",
    "- Bitwise operators"
   ]
  },
  {
   "cell_type": "markdown",
   "id": "aafd43c4-e313-4e5c-8f55-6b0321fc26ae",
   "metadata": {},
   "source": [
    "#### Arithmetic Operators\n",
    "Used for mathematical operations.\n",
    "- `+` Addition\n",
    "- `-` Subtraction  \n",
    "- `*` Multiplication\n",
    "- `/` Division\n",
    "- `//` Floor Division\n",
    "- `%` Modulus\n",
    "- `**` Exponentiation"
   ]
  },
  {
   "cell_type": "code",
   "execution_count": 27,
   "id": "51b51e61-753f-44b4-89e7-cc382a7abf72",
   "metadata": {},
   "outputs": [
    {
     "name": "stdout",
     "output_type": "stream",
     "text": [
      "13\n",
      "7\n",
      "30\n",
      "3.3333333333333335\n",
      "3\n",
      "1\n",
      "1000\n"
     ]
    }
   ],
   "source": [
    "# Examples\n",
    "x, y = 10, 3\n",
    "\n",
    "print(x + y)   # 13\n",
    "print(x - y)   # 7\n",
    "print(x * y)   # 30\n",
    "print(x / y)   # 3.333...\n",
    "print(x // y)  # 3\n",
    "print(x % y)   # 1\n",
    "print(x ** y)  # 1000"
   ]
  },
  {
   "cell_type": "code",
   "execution_count": 10,
   "id": "4f1f512c-cb29-49a8-9f68-2e7266d3db92",
   "metadata": {},
   "outputs": [
    {
     "name": "stdout",
     "output_type": "stream",
     "text": [
      "Hi Amir\n",
      "HaHa\n"
     ]
    }
   ],
   "source": [
    "# Addition operator for strings\n",
    "name = \"Amir\"\n",
    "message = \"Hi\" + \" \" + name\n",
    "print(message)\n",
    "\n",
    "# String * integers\n",
    "message = \"Ha\"\n",
    "print(message * 2)"
   ]
  },
  {
   "cell_type": "markdown",
   "id": "c2fedfec-71cc-443a-b72a-efb4a0016b78",
   "metadata": {},
   "source": [
    "#### Assignment Operators\n",
    "Used to assign values to variables.\n",
    "- `=` Basic assignment\n",
    "- `+=` Add and assign\n",
    "- `-=` Subtract and assign\n",
    "- `*=` Multiply and assign\n",
    "- `/=` Divide and assign\n",
    "- `//=` Floor divide and assign\n",
    "- `%=` Modulus and assign\n",
    "- `**=` Exponentiate and assign"
   ]
  },
  {
   "cell_type": "code",
   "execution_count": 29,
   "id": "bb1e33d9-10a3-4497-9f8e-e545efb73036",
   "metadata": {},
   "outputs": [
    {
     "name": "stdout",
     "output_type": "stream",
     "text": [
      "3.0\n"
     ]
    }
   ],
   "source": [
    "# Examples\n",
    "x = 10\n",
    "x += 5    # x = 15\n",
    "x -= 3    # x = 12\n",
    "x *= 2    # x = 24\n",
    "x /= 4    # x = 6.0\n",
    "x //= 2   # x = 3.0\n",
    "\n",
    "print(x)"
   ]
  },
  {
   "cell_type": "markdown",
   "id": "07e7ab56-604c-4d2b-8886-4cced8bd843b",
   "metadata": {},
   "source": [
    "#### Comparison Operators\n",
    "Used to compare two values. Return boolean values of `True` or `False`.\n",
    "- `==` Equal to\n",
    "- `!=` Not equal to\n",
    "- `>` Greater than\n",
    "- `<` Less than\n",
    "- `>=` Greater than or equal to\n",
    "- `<=` Less than or equal to"
   ]
  },
  {
   "cell_type": "code",
   "execution_count": 30,
   "id": "7519b9f8-3cfd-43b4-84a4-50cf271f843e",
   "metadata": {},
   "outputs": [
    {
     "name": "stdout",
     "output_type": "stream",
     "text": [
      "False\n",
      "True\n",
      "True\n",
      "False\n",
      "True\n",
      "False\n"
     ]
    }
   ],
   "source": [
    "# Examples\n",
    "a, b = 10, 5\n",
    "\n",
    "print(a == b)   # False\n",
    "print(a != b)   # True\n",
    "print(a > b)    # True\n",
    "print(a < b)    # False\n",
    "print(a >= 10)  # True\n",
    "print(a <= 5)   # False"
   ]
  },
  {
   "cell_type": "markdown",
   "id": "b8225e37-8c12-423a-acd3-c2661ddcbe44",
   "metadata": {},
   "source": [
    "#### Logical Operators\n",
    "Used to combine conditional statements.\n",
    "- `and` Logical AND\n",
    "- `or` Logical OR  \n",
    "- `not` Logical NOT"
   ]
  },
  {
   "cell_type": "code",
   "execution_count": 31,
   "id": "700241ca-7b66-4632-adae-95630f83ac55",
   "metadata": {},
   "outputs": [
    {
     "name": "stdout",
     "output_type": "stream",
     "text": [
      "True\n",
      "True\n",
      "False\n",
      "True\n",
      "False\n",
      "True\n",
      "True\n"
     ]
    }
   ],
   "source": [
    "# Examples\n",
    "x = 5\n",
    "\n",
    "print(x > 3 and x < 10)   # True\n",
    "print(x > 3 or x < 4)     # True\n",
    "print(not(x > 3))         # False\n",
    "\n",
    "# Truth table behavior\n",
    "print(True and True)      # True\n",
    "print(True and False)     # False\n",
    "print(False or True)      # True\n",
    "print(not False)          # True"
   ]
  },
  {
   "cell_type": "markdown",
   "id": "fed85caf-4314-4773-90d5-d1b8c0facd3c",
   "metadata": {},
   "source": [
    "#### Identity Operators\n",
    "Used to compare objects (memory location), not values.\n",
    "- `is` Same object\n",
    "- `is not` Not same object"
   ]
  },
  {
   "cell_type": "code",
   "execution_count": 32,
   "id": "4c506371-71a8-4d09-86ec-8a9217d417cf",
   "metadata": {},
   "outputs": [
    {
     "name": "stdout",
     "output_type": "stream",
     "text": [
      "False\n",
      "True\n",
      "True\n",
      "True\n",
      "True\n"
     ]
    }
   ],
   "source": [
    "# Examples\n",
    "a = [1, 2, 3]\n",
    "b = [1, 2, 3]\n",
    "c = a\n",
    "\n",
    "print(a is b)        # False (different objects)\n",
    "print(a is c)        # True (same object)\n",
    "print(a == b)        # True (same values)\n",
    "print(a is not b)    # True\n",
    "\n",
    "# Special case with small integers\n",
    "x = 256\n",
    "y = 256\n",
    "print(x is y)        # True (Python interns small integers)"
   ]
  },
  {
   "cell_type": "markdown",
   "id": "b1da7c24-418e-4371-bea1-316b5314fea3",
   "metadata": {},
   "source": [
    "#### Membership Operators\n",
    "Used to test if a sequence is present in an object.\n",
    "- `in` Present in sequence\n",
    "- `not in` Not present in sequence"
   ]
  },
  {
   "cell_type": "code",
   "execution_count": 33,
   "id": "0636b147-2d8f-4e8b-a397-0f46ff1116e6",
   "metadata": {},
   "outputs": [
    {
     "name": "stdout",
     "output_type": "stream",
     "text": [
      "True\n",
      "False\n",
      "True\n",
      "True\n",
      "True\n",
      "True\n",
      "False\n"
     ]
    }
   ],
   "source": [
    "# Examples\n",
    "fruits = [\"apple\", \"banana\", \"cherry\"]\n",
    "\n",
    "print(\"apple\" in fruits)      # True\n",
    "print(\"orange\" in fruits)     # False\n",
    "print(\"mango\" not in fruits)  # True\n",
    "\n",
    "# Works with strings, lists, tuples, dictionaries (keys)\n",
    "text = \"Hello World\"\n",
    "print(\"Hello\" in text)        # True\n",
    "print(\"Python\" not in text)   # True\n",
    "\n",
    "# With dictionaries\n",
    "person = {\"name\": \"John\", \"age\": 30}\n",
    "print(\"name\" in person)       # True (checks keys)\n",
    "print(\"John\" in person)       # False (doesn't check values)"
   ]
  },
  {
   "cell_type": "markdown",
   "id": "d4eca821-41fa-44d2-ad76-36933c5bea9b",
   "metadata": {},
   "source": [
    "#### Bitwise Operators\n",
    "Used to compare (binary) numbers.\n",
    "- `&` Bitwise AND\n",
    "- `|` Bitwise OR\n",
    "- `^` Bitwise XOR\n",
    "- `~` Bitwise NOT\n",
    "- `<<` Left shift\n",
    "- `>>` Right shift"
   ]
  },
  {
   "cell_type": "code",
   "execution_count": 34,
   "id": "7609554e-13ab-4089-ba4d-4bec3d922497",
   "metadata": {},
   "outputs": [
    {
     "name": "stdout",
     "output_type": "stream",
     "text": [
      "0\n",
      "14\n",
      "14\n",
      "-11\n",
      "40\n",
      "5\n"
     ]
    }
   ],
   "source": [
    "# Examples\n",
    "a = 10    # 1010 in binary\n",
    "b = 4     # 0100 in binary\n",
    "\n",
    "print(a & b)   # 0  (1000 & 0100 = 0000)\n",
    "print(a | b)   # 14 (1010 | 0100 = 1110)\n",
    "print(a ^ b)   # 14 (1010 ^ 0100 = 1110)\n",
    "print(~a)      # -11 (inverts bits)\n",
    "print(a << 2)  # 40 (1010 → 101000)\n",
    "print(a >> 1)  # 5  (1010 → 0101)"
   ]
  },
  {
   "cell_type": "markdown",
   "id": "fbdbe010-88a9-4238-bc65-d174e512d3b6",
   "metadata": {},
   "source": [
    "## 5. Type Conversion (Casting)\n",
    "Different types of variables can be converted to some other types. Python is an object-orientated language, and as such it uses classes to define data types, including its primitive types."
   ]
  },
  {
   "cell_type": "markdown",
   "id": "c4a9e207-97b0-4de7-8e7e-437bc21f459b",
   "metadata": {},
   "source": [
    "#### String to Numbers\n",
    "`int()` converts strings or floats to integers, removing decimal points.\n",
    "\n",
    "`float()` converts strings or integers to floating-point numbers with decimals."
   ]
  },
  {
   "cell_type": "code",
   "execution_count": 18,
   "id": "4fa42205-c0c0-4665-8de5-2a12d21ec3ea",
   "metadata": {},
   "outputs": [
    {
     "name": "stdout",
     "output_type": "stream",
     "text": [
      "123 <class 'int'>\n",
      "3.14 <class 'float'>\n",
      "10\n"
     ]
    }
   ],
   "source": [
    "# String to integer\n",
    "number_str = \"123\"\n",
    "number_int = int(number_str)\n",
    "print(number_int, type(number_int))    # 123 <class 'int'>\n",
    "\n",
    "# String to float\n",
    "float_str = \"3.14\"\n",
    "number_float = float(float_str)\n",
    "print(number_float, type(number_float)) # 3.14 <class 'float'>\n",
    "\n",
    "# With different bases\n",
    "binary_str = \"1010\"\n",
    "decimal_num = int(binary_str, 2)       # Convert from binary\n",
    "print(decimal_num)                     # 10"
   ]
  },
  {
   "cell_type": "markdown",
   "id": "dec87e8e-882b-4695-9553-7818528ffba1",
   "metadata": {},
   "source": [
    "#### Numbers to String\n",
    "`str()` converts any data type into a string representation."
   ]
  },
  {
   "cell_type": "code",
   "execution_count": 19,
   "id": "5695df31-bdd7-4d8f-9053-2b0eb5410316",
   "metadata": {},
   "outputs": [
    {
     "name": "stdout",
     "output_type": "stream",
     "text": [
      "25 <class 'str'>\n",
      "19.99 <class 'str'>\n"
     ]
    }
   ],
   "source": [
    "# Integer to string\n",
    "age = 25\n",
    "age_str = str(age)\n",
    "print(age_str, type(age_str))          # 25 <class 'str'>\n",
    "\n",
    "# Float to string\n",
    "price = 19.99\n",
    "price_str = str(price)\n",
    "print(price_str, type(price_str))      # 19.99 <class 'str'>"
   ]
  },
  {
   "cell_type": "markdown",
   "id": "0a853a87-ee0c-409a-b311-2424ec5ba718",
   "metadata": {},
   "source": [
    "#### Boolean Conversion\n",
    "`bool()` converts values to True or False based on their truthiness."
   ]
  },
  {
   "cell_type": "code",
   "execution_count": 20,
   "id": "f6b11343-7732-48c2-9e5f-5f43817c1f8f",
   "metadata": {},
   "outputs": [
    {
     "name": "stdout",
     "output_type": "stream",
     "text": [
      "True\n",
      "False\n",
      "True\n",
      "False\n",
      "False\n"
     ]
    }
   ],
   "source": [
    "# Various to boolean\n",
    "print(bool(1))         # True\n",
    "print(bool(0))         # False\n",
    "print(bool(\"Hello\"))   # True\n",
    "print(bool(\"\"))        # False\n",
    "print(bool([]))        # False"
   ]
  },
  {
   "cell_type": "markdown",
   "id": "11ab0fa5-dd06-42e3-8b4f-ee854c3d1e43",
   "metadata": {},
   "source": [
    "#### Collection Conversion\n",
    "`list()` converts other iterables like tuples or strings into lists.\n",
    "\n",
    "`tuple()` converts other iterables like lists or strings into tuples.\n",
    "\n",
    "`set()` converts iterables into sets, removing duplicates.\n",
    "\n",
    "`dict()` creates dictionaries from key-value pairs or other mappings."
   ]
  },
  {
   "cell_type": "markdown",
   "id": "ce972571-9ed7-42c5-971b-9fbd981bb7f1",
   "metadata": {},
   "source": [
    "## 6. Comments\n",
    "Comments are **non-executable text** used to explain code, make notes, or temporarily disable code. Python supports single-line comments using the hash symbol (#) and multi-line explanations using triple-quoted strings (though technically docstrings). Comments are ignored by the Python interpreter and serve solely for human readability, documentation, and code maintenance. Good comments explain the why behind code logic rather than stating the obvious, making code more maintainable and understandable for other developers and your future self."
   ]
  },
  {
   "cell_type": "code",
   "execution_count": 26,
   "id": "a91fa570-55bd-461e-84fe-134f6e306b11",
   "metadata": {},
   "outputs": [],
   "source": [
    "# This is a single-line comment\n",
    "name = \"Muhammad\"  # This is an inline comment\n",
    "\n",
    "# Calculating the total price\n",
    "# including tax\n",
    "price = 100\n",
    "tax = price * 0.08  # 8% tax rate\n",
    "total = price + tax\n",
    "\n",
    "\"\"\"\n",
    "This is a multi-line comment\n",
    "using triple quotes.\n",
    "It can span multiple lines.\n",
    "\"\"\"\n",
    "\n",
    "# TODO: Add discount calculation later\n",
    "# NOTE: Prices are in US dollars\n",
    "\n",
    "# Temporarily disabled code:\n",
    "# print(\"This won't run\")\n",
    "# old_price = 50\n",
    "\n",
    "# Bad comment example:\n",
    "# x = 10  # Setting x to 10 (obvious - don't do this)\n",
    "\n",
    "# Good comment example:\n",
    "x = 10  # Initial value for counter"
   ]
  },
  {
   "cell_type": "markdown",
   "id": "fffebcd3-4006-405d-978c-59f3ed6c9f92",
   "metadata": {},
   "source": [
    "## 7. Conditions\n",
    "Conditions allow the program to make decisions and execute different code blocks based on whether certain conditions are **True** or **False**. Python uses `if`, `elif` (else if), `else` and `match-case` **statements** or **keywords** to control the flow of your program. Conditions are evaluated using comparison operators (like ==, >, <) and logical operators (like and, or, not). When a condition is True, the code block underneath it runs; when False, Python skips to the next condition or the else block."
   ]
  },
  {
   "cell_type": "markdown",
   "id": "e25bca24-e869-40f5-9e86-483771313d0e",
   "metadata": {},
   "source": [
    "#### Age Check"
   ]
  },
  {
   "cell_type": "code",
   "execution_count": 27,
   "id": "c8606132-e97a-4a5b-b3ff-18b1ce29e9e1",
   "metadata": {},
   "outputs": [
    {
     "name": "stdout",
     "output_type": "stream",
     "text": [
      "You can vote!\n"
     ]
    }
   ],
   "source": [
    "age = 20\n",
    "\n",
    "if age >= 18:\n",
    "    print(\"You can vote!\")\n",
    "else:\n",
    "    print(\"You are too young to vote.\")"
   ]
  },
  {
   "cell_type": "markdown",
   "id": "e8161809-2f90-40fe-9bc4-32f1c8daef16",
   "metadata": {},
   "source": [
    "#### Grade Calculator"
   ]
  },
  {
   "cell_type": "code",
   "execution_count": 28,
   "id": "4013e810-d888-46cb-9ca2-e6d450468b76",
   "metadata": {},
   "outputs": [
    {
     "name": "stdout",
     "output_type": "stream",
     "text": [
      "Good job! Grade: B\n"
     ]
    }
   ],
   "source": [
    "score = 85\n",
    "\n",
    "if score >= 90:\n",
    "    print(\"Excellent! Grade: A\")\n",
    "elif score >= 80:\n",
    "    print(\"Good job! Grade: B\")\n",
    "elif score >= 70:\n",
    "    print(\"Not bad! Grade: C\")\n",
    "elif score >= 60:\n",
    "    print(\"You passed! Grade: D\")\n",
    "else:\n",
    "    print(\"Sorry, you failed. Grade: F\")"
   ]
  },
  {
   "cell_type": "markdown",
   "id": "c04cbed5-72da-48c1-996b-756aa6f7fe69",
   "metadata": {},
   "source": [
    "#### Weather Decision Maker"
   ]
  },
  {
   "cell_type": "code",
   "execution_count": 29,
   "id": "9afa0088-9a4c-4aeb-b94b-6a992e73ce0b",
   "metadata": {},
   "outputs": [
    {
     "name": "stdout",
     "output_type": "stream",
     "text": [
      "Take a light rain jacket\n"
     ]
    }
   ],
   "source": [
    "is_raining = True\n",
    "temperature = 22\n",
    "\n",
    "if is_raining and temperature > 20:\n",
    "    print(\"Take a light rain jacket\")\n",
    "elif is_raining and temperature <= 20:\n",
    "    print(\"Take a warm rain coat\")\n",
    "elif not is_raining and temperature > 25:\n",
    "    print(\"Wear shorts and t-shirt\")\n",
    "else:\n",
    "    print(\"Wear normal clothes\")"
   ]
  },
  {
   "cell_type": "markdown",
   "id": "deb11e9a-c545-404e-839d-e4877b30d093",
   "metadata": {},
   "source": [
    "#### Number Properties"
   ]
  },
  {
   "cell_type": "code",
   "execution_count": 30,
   "id": "bab33a30-8492-444e-acf1-bf7733fa2ebe",
   "metadata": {},
   "outputs": [
    {
     "name": "stdout",
     "output_type": "stream",
     "text": [
      "This is a positive number\n",
      "It's also an odd number\n"
     ]
    }
   ],
   "source": [
    "number = 7\n",
    "\n",
    "if number > 0:\n",
    "    print(\"This is a positive number\")\n",
    "    if number % 2 == 0:\n",
    "        print(\"It's also an even number\")\n",
    "    else:\n",
    "        print(\"It's also an odd number\")\n",
    "elif number < 0:\n",
    "    print(\"This is a negative number\")\n",
    "else:\n",
    "    print(\"The number is zero\")"
   ]
  },
  {
   "cell_type": "markdown",
   "id": "2754f31c-16d4-487d-80c6-d5c3d5069e61",
   "metadata": {},
   "source": [
    "#### Simple Authentication System"
   ]
  },
  {
   "cell_type": "code",
   "execution_count": 33,
   "id": "01301a3d-7818-4567-840e-a179a6d100b1",
   "metadata": {},
   "outputs": [
    {
     "name": "stdout",
     "output_type": "stream",
     "text": [
      "Login successful!\n"
     ]
    }
   ],
   "source": [
    "username = \"admin\"\n",
    "password = \"1234\"\n",
    "\n",
    "if username == \"admin\" and password == \"1234\":\n",
    "    print(\"Login successful!\")\n",
    "else:\n",
    "    print(\"Wrong username or password\")"
   ]
  },
  {
   "cell_type": "markdown",
   "id": "8b286347-312e-49f3-af94-2491fd7278f8",
   "metadata": {},
   "source": [
    "#### Discount Calculator"
   ]
  },
  {
   "cell_type": "code",
   "execution_count": 36,
   "id": "3d210083-d247-44f9-bc4b-d06b1e3590a3",
   "metadata": {},
   "outputs": [
    {
     "name": "stdout",
     "output_type": "stream",
     "text": [
      "You get 20% discount! Save $24.0\n"
     ]
    }
   ],
   "source": [
    "total_price = 120\n",
    "is_member = True\n",
    "\n",
    "if total_price > 100 and is_member:\n",
    "    discount = total_price * 0.20\n",
    "    print(f\"You get 20% discount! Save ${discount}\")\n",
    "elif total_price > 100:\n",
    "    discount = total_price * 0.10\n",
    "    print(f\"You get 10% discount! Save ${discount}\")\n",
    "else:\n",
    "    print(\"No discount available\")"
   ]
  },
  {
   "cell_type": "markdown",
   "id": "f002dd48-cdf6-4720-854c-81bb764d0dd1",
   "metadata": {},
   "source": [
    "#### HTTP Status Code Handler\n",
    "**Match case** (introduced in Python 3.10) is a powerful pattern matching feature that provides a more readable and expressive way to handle multiple conditions compared to long if-elif-else chains. It allows you to compare a value against multiple patterns and execute code based on which pattern matches. Match case is especially useful for checking complex data structures, enums, or when you have many possible cases to handle."
   ]
  },
  {
   "cell_type": "code",
   "execution_count": 37,
   "id": "5a84fd1c-d827-45e2-a7e4-4b65fa6fc2f4",
   "metadata": {},
   "outputs": [
    {
     "name": "stdout",
     "output_type": "stream",
     "text": [
      "📄 Not Found - Page doesn't exist\n"
     ]
    }
   ],
   "source": [
    "# Handle different HTTP status codes\n",
    "status_code = 404\n",
    "\n",
    "match status_code:\n",
    "    case 200:\n",
    "        print(\"✅ Success - Request completed\")\n",
    "    case 301 | 302:\n",
    "        print(\"🔄 Redirect - Page moved\")\n",
    "    case 400:\n",
    "        print(\"❌ Bad Request - Check your input\")\n",
    "    case 401:\n",
    "        print(\"🔒 Unauthorized - Login required\")\n",
    "    case 403:\n",
    "        print(\"🚫 Forbidden - Access denied\")\n",
    "    case 404:\n",
    "        print(\"📄 Not Found - Page doesn't exist\")\n",
    "    case 500:\n",
    "        print(\"⚡ Server Error - Try again later\")\n",
    "    case _:\n",
    "        print(f\"❓ Unknown status code: {status_code}\")\n",
    "\n",
    "# Output: \"📄 Not Found - Page doesn't exist\""
   ]
  },
  {
   "cell_type": "markdown",
   "id": "8b1f14a7-2eea-40d0-925f-fe1f602be08a",
   "metadata": {},
   "source": [
    "## References\n",
    "\n",
    "[1] \"Python Documentation\", Python Official Website, https://docs.python.org, Accessed October 2025.\n",
    "\n",
    "[2] \"Python Tutorial\", W3Schools, https://www.w3schools.com/python/default.asp, Accessed October 2025.\n",
    "\n",
    "[3] \"Python Developer\", Sololearn, https://www.sololearn.com/, Accessed October 2025.\n",
    "\n",
    "[4] \"Learn Python - Free Interactive Python Tutorial\", https://www.learnpython.org/, Accessed October 2025.\n",
    "\n",
    "[5] Matthes, Eric., \"Python Crash Course: A Hands-On, Project-Based Introduction to Programming\", Third Edition, No Starch Press, 2023.\n",
    "\n",
    "[6] Lutz, Mark., \"Learning Python\", Fourth Edition, O’Reilly, 2009.\n",
    "\n",
    "[7] Sweigart, Al., \"Automate the boring stuff with Python: Practical programming for total beginners\", Second Edition, No Starch Press, 2019."
   ]
  },
  {
   "cell_type": "code",
   "execution_count": null,
   "id": "3f98096d-cc2a-4bae-957b-84a816bdde74",
   "metadata": {},
   "outputs": [],
   "source": []
  }
 ],
 "metadata": {
  "kernelspec": {
   "display_name": "Python 3 (ipykernel)",
   "language": "python",
   "name": "python3"
  },
  "language_info": {
   "codemirror_mode": {
    "name": "ipython",
    "version": 3
   },
   "file_extension": ".py",
   "mimetype": "text/x-python",
   "name": "python",
   "nbconvert_exporter": "python",
   "pygments_lexer": "ipython3",
   "version": "3.13.7"
  }
 },
 "nbformat": 4,
 "nbformat_minor": 5
}
